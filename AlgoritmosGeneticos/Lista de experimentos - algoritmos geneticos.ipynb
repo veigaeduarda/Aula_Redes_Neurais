{
 "cells": [
  {
   "cell_type": "markdown",
   "metadata": {},
   "source": [
    "Lista de experimentos - algoritmos genéticos\n",
    "============================================\n",
    "\n"
   ]
  },
  {
   "cell_type": "markdown",
   "metadata": {},
   "source": [
    "Utilize algoritmos genéticos para resolver os problemas abaixo, exceto quando o enunciado disser para usar outro tipo de algoritmo.\n",
    "\n"
   ]
  },
  {
   "cell_type": "markdown",
   "metadata": {},
   "source": [
    "<hr>\n",
    "\n"
   ]
  },
  {
   "cell_type": "markdown",
   "metadata": {},
   "source": [
    "## Muitas caixas e todas elas binárias!\n",
    "\n"
   ]
  },
  {
   "cell_type": "markdown",
   "metadata": {},
   "source": [
    "Esse experimento está dividido em 2 objetivos. Faça um notebook para cada objetivo para deixar tudo bem organizado.\n",
    "\n"
   ]
  },
  {
   "cell_type": "markdown",
   "metadata": {},
   "source": [
    "### $n$ caixas binárias\n",
    "\n"
   ]
  },
  {
   "cell_type": "markdown",
   "metadata": {},
   "source": [
    "**Objetivo**: Criar uma função que encontra uma solução geral para o problema das caixas binárias, recebendo o número de caixas como um argumento.\n",
    "\n",
    "**Nome do arquivo**: &ldquo;experimento GA.01 - n caixas&rdquo;\n",
    "\n"
   ]
  },
  {
   "cell_type": "markdown",
   "metadata": {},
   "source": [
    "### Comparando as performances\n",
    "\n"
   ]
  },
  {
   "cell_type": "markdown",
   "metadata": {},
   "source": [
    "**Objetivo**: Compare a performance de três algoritmos diferentes de otimização (busca aleatória, busca em grade e algoritmos genéticos) para resolver o problema das caixas binárias.\n",
    "\n",
    "**Lembrete**: nós estudamos performance de algoritmos durante lógica computacional.\n",
    "\n",
    "**Dica**: O enunciado do objetivo não definiu o número de caixas. É esperado de um cientista que ele entenda que não adianta resolver esse problema para apenas um valor de $n$ caixas, mas sim buscar uma tendência resolvendo esse problema para alguns valores de $n$ diferentes. Fique atento pois essa dica não será mais dada a partir de agora mesmo que seja necessário usar desse bom senso científico em problemas futuros.\n",
    "\n",
    "**Dica 2**: Lembre-se de que o único algoritmo determinístico dos três sendo estudados é o de busca em grade. Sendo assim, é esperado que um cientista entenda que situações não-determinísticas demandam o uso de estatística para quantificar um valor médio de performance e seu desvio. Novamente, fique atento pois essa dica não será mais dada a partir de agora.\n",
    "\n",
    "**Nome do arquivo**: &ldquo;experimento GA.02 - performance caixas binarias&rdquo;\n",
    "\n"
   ]
  },
  {
   "cell_type": "markdown",
   "metadata": {},
   "source": [
    "<hr>\n",
    "\n"
   ]
  },
  {
   "cell_type": "markdown",
   "metadata": {},
   "source": [
    "## O caixeiro viajante que gosta de viajar\n",
    "\n"
   ]
  },
  {
   "cell_type": "markdown",
   "metadata": {},
   "source": [
    "Esse experimento é dividido em 2 objetivos. Faça um notebook para cada objetivo para deixar tudo bem organizado.\n",
    "\n"
   ]
  },
  {
   "cell_type": "markdown",
   "metadata": {},
   "source": [
    "### O caixeiro com gasolina infinita (e sem conciência ambiental)\n",
    "\n"
   ]
  },
  {
   "cell_type": "markdown",
   "metadata": {},
   "source": [
    "**Objetivo**: Encontre o caminho de *maior* distância no problema do caixeiro viajante e mostre ele de forma gráfica.\n",
    "\n",
    "**Considerações do experimento**: Considere um número $n\\geq 7$ de coordenadas $(x,y)$ de cidades e que o caixeiro tenha combustível infinito. Você pode gerar as coordenadas de forma aleatória ou simplesmente usar as coordenadas que desejar. O caixeiro só anda em linha reta e apenas entre duas cidades. O caixeiro começa e termina seu trajeto na mesma cidade e, fora a cidade inicial, ele não visita nenhuma outra cidade mais de uma vez.\n",
    "\n",
    "**Nome do arquivo**: &ldquo;experimento GA.03 - caixeiro com gasolina infinita&rdquo;\n",
    "\n"
   ]
  },
  {
   "cell_type": "markdown",
   "metadata": {},
   "source": [
    "### O caixeiro que prefere cidades ímpares\n",
    "\n"
   ]
  },
  {
   "cell_type": "markdown",
   "metadata": {},
   "source": [
    "**Objetivo**: Encontre o caminho de *menor* distância no problema do caixeiro viajante que prefere cidades ímpares e mostre ele de forma gráfica.\n",
    "\n",
    "**Considerações do experimento**: Utilize as mesmas considerações do experimento anterior (caixeiro com gasolina infinita). Além disso, atribua um número inteiro para cada uma das $n$ cidades que o caixeiro irá visitar, iniciando a contagem pelo número zero e aumentando esse número de 1 em 1. O caixeiro deverá necessariamente visitar primeiro as cidades com números ímpares antes das cidades com números pares.\n",
    "\n",
    "**Nome do arquivo**: &ldquo;experimento GA.04 - caixeiro que gosta de numeros impares&rdquo;\n",
    "\n"
   ]
  },
  {
   "cell_type": "markdown",
   "metadata": {},
   "source": [
    "<hr>\n",
    "\n"
   ]
  },
  {
   "cell_type": "markdown",
   "metadata": {},
   "source": [
    "## O caixeiro viajante astronauta\n",
    "\n"
   ]
  },
  {
   "cell_type": "markdown",
   "metadata": {},
   "source": [
    "**Objetivo**: Encontre o caminho de menor distância no problema do caixeiro viajante astronauta.\n",
    "\n",
    "**Considerações do experimento**: Considere neste problema número $n\\geq 7$ de coordenadas $(x,y,z)$ de estações espaciais. Use as mesmas regras dos problemas usuais do caixeiro viajante.\n",
    "\n",
    "**Nome do arquivo**: &ldquo;experimento GA.04 - caixeiro astronauta&rdquo;\n",
    "\n"
   ]
  },
  {
   "cell_type": "markdown",
   "metadata": {},
   "source": [
    "<hr>\n",
    "\n"
   ]
  },
  {
   "cell_type": "markdown",
   "metadata": {},
   "source": [
    "## Novos palíndromos\n",
    "\n"
   ]
  },
  {
   "cell_type": "markdown",
   "metadata": {},
   "source": [
    "**Objetivo**: Encontre pelo menos 10 palíndromos de 5 letras. Estes palíndromos devem ter pelo menos uma vogal. Não é necessário que eles formem palavras válidas em português ou qualquer outro idioma.\n",
    "\n",
    "**Nome do arquivo**: &ldquo;experimento GA.05 - palindromos&rdquo;\n",
    "\n"
   ]
  },
  {
   "cell_type": "markdown",
   "metadata": {},
   "source": [
    "<hr>\n",
    "\n"
   ]
  },
  {
   "cell_type": "markdown",
   "metadata": {},
   "source": [
    "## Mínimos e máximos de funções matemáticas\n",
    "\n"
   ]
  },
  {
   "cell_type": "markdown",
   "metadata": {},
   "source": [
    "Esse experimento está dividido em 2 objetivos. Faça um notebook para cada objetivo para deixar tudo bem organizado.\n",
    "\n"
   ]
  },
  {
   "cell_type": "markdown",
   "metadata": {},
   "source": [
    "### A função de Himmelblau\n",
    "\n"
   ]
  },
  {
   "cell_type": "markdown",
   "metadata": {},
   "source": [
    "**Objetivo**: Encontre a coordenada $(x,y)$ do mínimo global da função de Himmelblau abaixo.\n",
    "\n",
    "$$\n",
    "f(x,y) = (x^2 +y -11)^2 + (x + y^2 - 7)^2\n",
    "$$\n",
    "\n",
    "**Nome do arquivo**: &ldquo;experimento GA.06 - Himmelblau e sua funcao&rdquo;\n",
    "\n"
   ]
  },
  {
   "cell_type": "markdown",
   "metadata": {},
   "source": [
    "### Alterando os parâmetros da sua busca\n",
    "\n"
   ]
  },
  {
   "cell_type": "markdown",
   "metadata": {},
   "source": [
    "**Objetivo**: Resolva o problema da função de Himmelblau usando diferentes parâmetros de busca e relate o que observou.\n",
    "\n",
    "**Dica**: Existem diversos parâmetros que você pode variar no seu algoritmo genético como, por exemplo, o tamanho da população, a taxa de mutação, a chance de cruzamento, etc. O problema não especificou qual ou quais parâmetros você deve alterar e também não não especificou como fazer essa alteração. Em problemas científicos, sempre que possível costumamos manter todas as variáveis constantes e alterar apenas uma delas para ver seu efeito. Se você alterar duas variáveis ao mesmo tempo ficará difícil entender o efeito de cada uma.\n",
    "\n",
    "**Nome do arquivo**: &ldquo;experimento GA.07 - alterando parametros&rdquo;\n",
    "\n"
   ]
  },
  {
   "cell_type": "markdown",
   "metadata": {},
   "source": [
    "<hr>\n",
    "\n"
   ]
  },
  {
   "cell_type": "markdown",
   "metadata": {},
   "source": [
    "## Otimização de hiperparâmetros\n",
    "\n"
   ]
  },
  {
   "cell_type": "markdown",
   "metadata": {},
   "source": [
    "**Objetivo**: use algoritmos genéticos para encontrar um bom conjunto de hiperparâmetros em um experimento de aprendizado de máquina. Escolha um algoritmo que tenha pelo menos 3 hiperparâmetros para serem otimizados.\n",
    "\n",
    "**Dica**: o problema não especificou o problema de aprendizado de máquina. Neste caso, você pode ficar à vontade para escolher o problema que quiser. Se estiver sem ideias, sugiro o dataset dos diamantes e o algoritmo das arvores de decisão que estudamos em Aprendizado de Máquina.\n",
    "\n",
    "**Nome do arquivo**: &ldquo;experimento GA.08 - hp tuning&rdquo;\n",
    "\n"
   ]
  },
  {
   "cell_type": "markdown",
   "metadata": {},
   "source": [
    "<hr>\n",
    "\n"
   ]
  },
  {
   "cell_type": "markdown",
   "metadata": {},
   "source": [
    "## A liga ternária mais cara do mundo\n",
    "\n"
   ]
  },
  {
   "cell_type": "markdown",
   "metadata": {},
   "source": [
    "**Objetivo**: Encontre uma liga de três elementos que tenha o maior custo possível. A liga ternária deve ser da forma $x$A.$y$B.$z$C sendo que $x+y+z = 100\\,\\mathrm{g}$, $x>5\\,\\mathrm{g}$, $y>5\\,\\mathrm{g}$, $z>5\\,\\mathrm{g}$ e &ldquo;A&rdquo;, &ldquo;B&rdquo; e &ldquo;C&rdquo; são elementos químicos. Utilize o preço [1] dado abaixo. Considere que qualquer composto com 3 elementos químicos é chamado de liga.\n",
    "\n",
    "**Nome do arquivo**: &ldquo;experimento GA.09 - liga ternaria mais cara&rdquo;\n",
    "\n"
   ]
  },
  {
   "cell_type": "code",
   "execution_count": 1,
   "metadata": {},
   "outputs": [],
   "source": [
    "# preço em dólares por kilograma\n",
    "preco = {\n",
    "    \"H\": 1.39,\n",
    "    \"He\": 24,\n",
    "    \"Li\": 85.6,\n",
    "    \"Be\": 857,\n",
    "    \"B\": 3.68,\n",
    "    \"C\": 0.122,\n",
    "    \"N\": 0.14,\n",
    "    \"O\": 0.154,\n",
    "    \"F\": 2.16,\n",
    "    \"Ne\": 240,\n",
    "    \"Na\": 3.43,\n",
    "    \"Mg\": 2.32,\n",
    "    \"Al\": 1.79,\n",
    "    \"Si\": 1.7,\n",
    "    \"P\": 2.69,\n",
    "    \"S\": 0.0926,\n",
    "    \"Cl\": 0.082,\n",
    "    \"Ar\": 0.931,\n",
    "    \"K\": 13.6,\n",
    "    \"Ca\": 2.35,\n",
    "    \"Sc\": 3460,\n",
    "    \"Ti\": 11.7,\n",
    "    \"V\": 385,\n",
    "    \"Cr\": 9.4,\n",
    "    \"Mn\": 1.82,\n",
    "    \"Fe\": 0.424,\n",
    "    \"Co\": 32.8,\n",
    "    \"Ni\": 13.9,\n",
    "    \"Cu\": 6,\n",
    "    \"Zn\": 2.55,\n",
    "    \"Ga\": 148,\n",
    "    \"Ge\": 1010,\n",
    "    \"As\": 1.31,\n",
    "    \"Se\": 21.4,\n",
    "    \"Br\": 4.39,\n",
    "    \"Kr\": 290,\n",
    "    \"Rb\": 15500,\n",
    "    \"Sr\": 6.68,\n",
    "    \"Y\": 31,\n",
    "    \"Nb\": 85.6,\n",
    "    \"Mo\": 40.1,\n",
    "    \"Tc\": 100000,\n",
    "    \"Ru\": 10600,\n",
    "    \"Rh\": 147000,\n",
    "    \"Pd\": 49500,\n",
    "    \"Ag\": 521,\n",
    "    \"Cd\": 2.73,\n",
    "    \"In\": 167,\n",
    "    \"Sn\": 18.7,\n",
    "    \"Sb\": 5.79,\n",
    "    \"Te\": 63.5,\n",
    "    \"I\": 35,\n",
    "    \"Xe\": 1800,\n",
    "    \"Cs\": 61800,\n",
    "    \"Ba\": 0.275,\n",
    "    \"La\": 4.92,\n",
    "    \"Ce\": 4.71,\n",
    "    \"Pr\": 103,\n",
    "    \"Nd\": 57.5,\n",
    "    \"Pm\": 460000,\n",
    "    \"Sm\": 13.9,\n",
    "    \"Eu\": 31.4,\n",
    "    \"Gd\": 28.6,\n",
    "    \"Tb\": 658,\n",
    "    \"Dy\": 307,\n",
    "    \"Ho\": 57.1,\n",
    "    \"Er\": 26.4,\n",
    "    \"Tm\": 3000,\n",
    "    \"Yb\": 17.1,\n",
    "    \"Lu\": 643,\n",
    "    \"Hf\": 900,\n",
    "    \"Ta\": 312,\n",
    "    \"W\": 35.3,\n",
    "    \"Re\": 4150,\n",
    "    \"Os\": 12000,\n",
    "    \"Ir\": 56200,\n",
    "    \"Pt\": 27800,\n",
    "    \"Hg\": 30.2,\n",
    "    \"Tl\": 4200,\n",
    "    \"Pb\": 2,\n",
    "    \"Bi\": 6.36,\n",
    "    \"Po\": 49200000000000,\n",
    "    \"Ac\": 29000000000000,\n",
    "    \"Th\": 287,\n",
    "    \"Pa\": 280000,\n",
    "    \"U\": 101,\n",
    "    \"Np\": 660000,\n",
    "    \"Pu\": 6490000,\n",
    "    \"Am\": 750000,\n",
    "    \"Cm\": 160000000000,\n",
    "    \"Bk\": 185000000000,\n",
    "    \"Cf\": 185000000000,\n",
    "}"
   ]
  },
  {
   "cell_type": "markdown",
   "metadata": {},
   "source": [
    "<hr>\n",
    "\n"
   ]
  },
  {
   "cell_type": "markdown",
   "metadata": {},
   "source": [
    "## A liga ternária leve mais cara do mundo\n",
    "\n"
   ]
  },
  {
   "cell_type": "markdown",
   "metadata": {},
   "source": [
    "**Objetivo**: Encontre uma liga de três elementos que tenha o maior custo e o menor peso atômico. A liga ternária deve ser da forma $x$A.$y$B.$z$C sendo que $x+y+z = 100\\,\\mathrm{mol}$, $x>5\\,\\mathrm{mol}$, $y>5\\,\\mathrm{mol}$, $z>5\\,\\mathrm{mol}$ e &ldquo;A&rdquo;, &ldquo;B&rdquo; e &ldquo;C&rdquo; são elementos químicos. Utilize o preço dado no exercício anterior e peso atômico [2] dados abaixo. Considere que qualquer composto com 3 elementos químicos é chamado de liga.\n",
    "\n",
    "**Nome do arquivo**: &ldquo;experimento GA.10 - liga ternaria mais cara e mais leve&rdquo;\n",
    "\n"
   ]
  },
  {
   "cell_type": "code",
   "execution_count": 2,
   "metadata": {},
   "outputs": [],
   "source": [
    "# peso atômico em gramas por mol\n",
    "peso_atomico = {\n",
    "    \"H\": 1.008,\n",
    "    \"He\": 4.002602,\n",
    "    \"Li\": 6.94,\n",
    "    \"Be\": 9.0121831,\n",
    "    \"B\": 10.81,\n",
    "    \"C\": 12.011,\n",
    "    \"N\": 14.007,\n",
    "    \"O\": 15.999,\n",
    "    \"F\": 18.998403163,\n",
    "    \"Ne\": 20.1797,\n",
    "    \"Na\": 22.98976928,\n",
    "    \"Mg\": 24.305,\n",
    "    \"Al\": 26.9815385,\n",
    "    \"Si\": 28.085,\n",
    "    \"P\": 30.973761998,\n",
    "    \"S\": 32.06,\n",
    "    \"Cl\": 35.45,\n",
    "    \"Ar\": 39.948,\n",
    "    \"K\": 39.0983,\n",
    "    \"Ca\": 40.078,\n",
    "    \"Sc\": 44.955908,\n",
    "    \"Ti\": 47.867,\n",
    "    \"V\": 50.9415,\n",
    "    \"Cr\": 51.9961,\n",
    "    \"Mn\": 54.938044,\n",
    "    \"Fe\": 55.845,\n",
    "    \"Co\": 58.933194,\n",
    "    \"Ni\": 58.6934,\n",
    "    \"Cu\": 63.546,\n",
    "    \"Zn\": 65.38,\n",
    "    \"Ga\": 69.723,\n",
    "    \"Ge\": 72.63,\n",
    "    \"As\": 74.921595,\n",
    "    \"Se\": 78.971,\n",
    "    \"Br\": 79.904,\n",
    "    \"Kr\": 83.798,\n",
    "    \"Rb\": 85.4678,\n",
    "    \"Sr\": 87.62,\n",
    "    \"Y\": 88.90584,\n",
    "    \"Nb\": 92.90637,\n",
    "    \"Mo\": 95.95,\n",
    "    \"Tc\": 97.90721,\n",
    "    \"Ru\": 101.07,\n",
    "    \"Rh\": 102.9055,\n",
    "    \"Pd\": 106.42,\n",
    "    \"Ag\": 107.8682,\n",
    "    \"Cd\": 112.414,\n",
    "    \"In\": 114.818,\n",
    "    \"Sn\": 118.71,\n",
    "    \"Sb\": 121.76,\n",
    "    \"Te\": 127.6,\n",
    "    \"I\": 126.90447,\n",
    "    \"Xe\": 131.293,\n",
    "    \"Cs\": 132.90545196,\n",
    "    \"Ba\": 137.327,\n",
    "    \"La\": 138.90547,\n",
    "    \"Ce\": 140.116,\n",
    "    \"Pr\": 140.90766,\n",
    "    \"Nd\": 144.242,\n",
    "    \"Pm\": 144.91276,\n",
    "    \"Sm\": 150.36,\n",
    "    \"Eu\": 151.964,\n",
    "    \"Gd\": 157.25,\n",
    "    \"Tb\": 158.92535,\n",
    "    \"Dy\": 162.5,\n",
    "    \"Ho\": 164.93033,\n",
    "    \"Er\": 167.259,\n",
    "    \"Tm\": 168.93422,\n",
    "    \"Yb\": 173.045,\n",
    "    \"Lu\": 174.9668,\n",
    "    \"Hf\": 178.49,\n",
    "    \"Ta\": 180.94788,\n",
    "    \"W\": 183.84,\n",
    "    \"Re\": 186.207,\n",
    "    \"Os\": 190.23,\n",
    "    \"Ir\": 192.217,\n",
    "    \"Pt\": 195.084,\n",
    "    \"Hg\": 200.592,\n",
    "    \"Tl\": 204.38,\n",
    "    \"Pb\": 207.2,\n",
    "    \"Bi\": 208.9804,\n",
    "    \"Po\": 209.0,\n",
    "    \"Ac\": 227.0,\n",
    "    \"Th\": 232.0377,\n",
    "    \"Pa\": 231.03588,\n",
    "    \"U\": 238.02891,\n",
    "    \"Np\": 237.0,\n",
    "    \"Pu\": 244.0,\n",
    "    \"Am\": 243.0,\n",
    "    \"Cm\": 247.0,\n",
    "    \"Bk\": 247.0,\n",
    "    \"Cf\": 251.0,\n",
    "}"
   ]
  },
  {
   "cell_type": "markdown",
   "metadata": {},
   "source": [
    "<hr>\n",
    "\n"
   ]
  },
  {
   "cell_type": "markdown",
   "metadata": {},
   "source": [
    "## &ldquo;Criatividade requer coragem&rdquo; &#x2014; Henri Matisse\n",
    "\n"
   ]
  },
  {
   "cell_type": "markdown",
   "metadata": {},
   "source": [
    "**Objetivo**: identifique um problema interessante de otimização e resolva ele utilizando algoritmos genéticos. Busque algo suficientemente novo que não seja apenas uma modificação simples dos experimentos propostos aqui ou em aula.\n",
    "\n",
    "**Requerimento**: é necessário ter realizado pelo menos três outros experimentos até o fim para destravar este.\n",
    "\n",
    "**Nome do arquivo**: &ldquo;experimento GA.11 - experimento que eu escolhi&rdquo;\n",
    "\n"
   ]
  },
  {
   "cell_type": "markdown",
   "metadata": {},
   "source": [
    "<hr>\n",
    "\n"
   ]
  },
  {
   "cell_type": "markdown",
   "metadata": {},
   "source": [
    "## Se não pode vencê-los, junte-se a eles\n",
    "\n"
   ]
  },
  {
   "cell_type": "markdown",
   "metadata": {},
   "source": [
    "**Objetivo**: use um Modelo de Linguagem (chatGPT, por exemplo) para resolver algum problema desta lista que você já tenha resolvido. Reporte em detalhes como foi sua experiência. Foi fácil? O código gerado funcionou satisfatóriamente sem alterações? Você entendeu o código gerado? Quais as diferenças entre o código gerado e o código que você fez? Você teve que interagir com a inteligência artificial para melhorar/corrigir o código? Você usaria esta ferramenta no seu trabalho ou pesquisa? Se sim, como faria isso?\n",
    "\n",
    "**Observação**: Registre toda sua &ldquo;conversa&rdquo; com o chatGPT no seu notebook. Para isso, crie uma seção antes do Playground e coloque as perguntas e respostas que você fez/obteve lá.\n",
    "\n",
    "**Requerimento**: é necessário ter realizado pelo menos três outros experimentos até o fim para destravar este.\n",
    "\n",
    "**Nome do arquivo**: &ldquo;experimento GA.12 - chatgpt&rdquo;\n",
    "\n"
   ]
  },
  {
   "cell_type": "markdown",
   "metadata": {},
   "source": [
    "<hr>\n",
    "\n"
   ]
  },
  {
   "cell_type": "markdown",
   "metadata": {},
   "source": [
    "## Invólucro convexo\n",
    "\n"
   ]
  },
  {
   "cell_type": "markdown",
   "metadata": {},
   "source": [
    "**Objetivo**: Dado um número $n$ de coordenadas em $\\mathbb{R}^2$, encontre o invólucro convexo desses pontos.\n",
    "\n",
    "**Dica**: Você pode ler mais sobre o invólucro convexo aqui: [https://brilliant.org/wiki/convex-hull/](https://brilliant.org/wiki/convex-hull/). Escolha um número $n \\geq 7$.\n",
    "\n",
    "**Nome do arquivo**: &ldquo;experimento GA.13 - involucro convexo&rdquo;\n",
    "\n"
   ]
  },
  {
   "cell_type": "markdown",
   "metadata": {},
   "source": [
    "<hr>\n",
    "\n"
   ]
  },
  {
   "cell_type": "markdown",
   "metadata": {},
   "source": [
    "## Reconstrução de imagens\n",
    "\n"
   ]
  },
  {
   "cell_type": "markdown",
   "metadata": {},
   "source": [
    "**Objetivo**: Implemente um algoritmo de reconstrução de imagens usando algoritmos genéticos.\n",
    "\n",
    "**Dica**: Veja o capítulo 11 do livro do Eyal Wirsansky [3]. O desafio desse experimento é entender cada etapa da implementação, não a implementação em si (pois ela está no livro&#x2026;)\n",
    "\n",
    "**Nome do arquivo**: &ldquo;experimento GA.14 - reconstrucao de imagens&rdquo;\n",
    "\n"
   ]
  },
  {
   "cell_type": "markdown",
   "metadata": {},
   "source": [
    "<hr>\n",
    "\n"
   ]
  },
  {
   "cell_type": "markdown",
   "metadata": {},
   "source": [
    "## Regressão simbólica\n",
    "\n"
   ]
  },
  {
   "cell_type": "markdown",
   "metadata": {},
   "source": [
    "**Objetivo**: Faça um algoritmo de regressão simbólica e resolva um problema com ele.\n",
    "\n",
    "**Sugestão**: É fortemente recomendado usar o módulo `DEAP` para resolver esse, já que ele já tem alguns métodos implementados (veremos esse módulo em aula). Veja um exemplo de como seguir em frente neste link: [https://deap.readthedocs.io/en/master/examples/gp_symbreg.html](https://deap.readthedocs.io/en/master/examples/gp_symbreg.html). É importante não apenas fazer funcionar, mas entender o que cada parte está fazendo (esse é o desafio). Não vale usar módulos prontos de regressão simbólica pra resolver esse experimento (mas se algum dia você precisar, busque pelo `pysr` que é excelente!). Este é um problema de programação genética, que é um subtipo de algoritmos genéticos. Veja o capítulo 12 do livro do Eyal Wirsansky [3].\n",
    "\n",
    "**Nome do arquivo**: &ldquo;experimento GA.15 - regressao simbolica&rdquo;\n",
    "\n"
   ]
  },
  {
   "cell_type": "markdown",
   "metadata": {},
   "source": [
    "<hr>\n",
    "\n"
   ]
  },
  {
   "cell_type": "markdown",
   "metadata": {},
   "source": [
    "## Kaggle\n",
    "\n"
   ]
  },
  {
   "cell_type": "markdown",
   "metadata": {},
   "source": [
    "O Kaggle ([https://www.kaggle.com](https://www.kaggle.com)) é uma plataforma de desafios computacionais de ciência de dados. Existem diversos desafios, dados e códigos nesta plataforma. Alguns desafios tem até premiação! Se você encontrar um desafio no Kaggle que você gostaria de resolver usando algoritmos genéticos, mostre ao professor e muito provavelmente ele contará como um experimento para esta disciplina.\n",
    "\n",
    "Eu encontrei dois desafios que (pelo visto) podem ser resolvidos com algoritmos genéticos:\n",
    "\n",
    "-   [https://www.kaggle.com/competitions/santa-workshop-tour-2019](https://www.kaggle.com/competitions/santa-workshop-tour-2019)\n",
    "-   [https://www.kaggle.com/competitions/santas-uncertain-bags/overview](https://www.kaggle.com/competitions/santas-uncertain-bags/overview)\n",
    "\n",
    "**Nome do arquivo**: &ldquo;experimento GA.16 - kaggle&rdquo;\n",
    "\n"
   ]
  },
  {
   "cell_type": "markdown",
   "metadata": {},
   "source": [
    "## Referências\n",
    "\n"
   ]
  },
  {
   "cell_type": "markdown",
   "metadata": {},
   "source": [
    "1.  Material suplementar de FORREST, Robert M.; GREER, A. Lindsay. Evolutionary design of machine-learning-predicted bulk metallic glasses. Digital Discovery, 2023.\n",
    "\n",
    "2.  MENTEL, Łukasz. mendeleev – A Python resource for properties of chemical elements, ions and isotopes. Disponível em: [https://github.com/lmmentel/mendeleev](https://github.com/lmmentel/mendeleev).\n",
    "\n",
    "3.  EYAL WIRSANSKY. Hands-On Genetic Algorithms with Python: Applying genetic algorithms to solve real-world deep learning and artificial intelligence problems, 2020.\n",
    "\n"
   ]
  }
 ],
 "metadata": {
  "kernelspec": {
   "display_name": "ilumpy",
   "language": "python",
   "name": "ilumpy"
  },
  "language_info": {
   "codemirror_mode": {
    "name": "ipython",
    "version": 3
   },
   "file_extension": ".py",
   "mimetype": "text/x-python",
   "name": "python",
   "nbconvert_exporter": "python",
   "pygments_lexer": "ipython3",
   "version": "3.10.6"
  },
  "org": null
 },
 "nbformat": 4,
 "nbformat_minor": 4
}
