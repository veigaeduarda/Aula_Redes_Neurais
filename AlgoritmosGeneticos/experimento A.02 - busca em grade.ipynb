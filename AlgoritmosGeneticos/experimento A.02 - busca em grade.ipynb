{
 "cells": [
  {
   "cell_type": "markdown",
   "metadata": {},
   "source": [
    "Busca em grade\n",
    "==============\n",
    "\n"
   ]
  },
  {
   "cell_type": "markdown",
   "metadata": {},
   "source": [
    "## <font color= #2f9bb9> Introdução\n",
    "\n"
   ]
  },
  {
   "cell_type": "markdown",
   "metadata": {},
   "source": [
    "Uma forma de se encontrar uma solução para um problema de otimização é realizando uma `busca em grade`. Uma busca em grade nada mais é do que testar exaustivamente todas as combinações possíveis entre um ou mais conjunto de parâmetros.\n",
    "\n",
    "Vamos supor que você queira testar dois parâmetros em um problema de otimização, $p$ e $q$. Os valores possíveis para $p$ e $q$ estão exibidos abaixo:\n",
    "\n",
    "$p = \\{0, 1, 2\\}$\n",
    "\n",
    "$q = \\{a, b, c\\}$\n",
    "\n",
    "Em uma busca em grade, nós iremos testar todas as combinações entre $p$ e $q$, sendo elas: $(0, a)$, $(0, b)$, $(0,c)$, $(1, a)$, $(1, b)$, $(1,c)$, $(2, a)$, $(2, b)$ e $(2,c)$.\n",
    "\n",
    "Um algoritmo de busca em grade segue os seguintes passos:\n",
    "\n",
    "1.  Definir quais são os parâmetros e quais são os valores possíveis para cada parâmetro\n",
    "\n",
    "2.  Computar e armazenar o resultado da função objetivo para todas as combinações possíveis dos parâmetros definidos no passo 1\n",
    "\n",
    "3.  Retornar ao usuário a combinação de parâmetros que teve o melhor resultado durante a busca.\n",
    "\n"
   ]
  },
  {
   "cell_type": "markdown",
   "metadata": {},
   "source": [
    "## Reflexões\n",
    "\n"
   ]
  },
  {
   "cell_type": "markdown",
   "metadata": {},
   "source": [
    "Você diria que o algoritmo de busca em grade é determinístico ou probabilístico?\n",
    "\n",
    "Será que a busca em grade é capaz de encontrar mínimos (ou máximos) da função objetivo?\n",
    "\n",
    "O que você espera da performance do algoritmo de busca em grade? Como a performance varia com o número de parâmetros e o número de itens nos conjuntos de valores de cada parâmetro?\n",
    "\n"
   ]
  },
  {
   "cell_type": "markdown",
   "metadata": {},
   "source": [
    "## Objetivo\n",
    "\n"
   ]
  },
  {
   "cell_type": "markdown",
   "metadata": {},
   "source": [
    "Encontrar uma solução para o problema das caixas binárias usando o algoritmo de busca em grade. Considere 4 caixas.\n",
    "\n"
   ]
  },
  {
   "cell_type": "markdown",
   "metadata": {},
   "source": [
    "## Descrição do problema\n",
    "\n"
   ]
  },
  {
   "cell_type": "markdown",
   "metadata": {},
   "source": [
    "O problema das caixas binárias é simples: nós temos um certo número de caixas e cada uma pode conter um valor do conjunto $\\{0, 1\\}$. O objetivo é encontrar uma combinação de caixas onde a soma dos valores contidos dentro delas é máximo.\n",
    "\n"
   ]
  },
  {
   "cell_type": "markdown",
   "metadata": {},
   "source": [
    "## Importações\n",
    "\n"
   ]
  },
  {
   "cell_type": "code",
   "execution_count": 16,
   "metadata": {},
   "outputs": [],
   "source": [
    "from funcoes import funcao_objetivo_cb\n",
    "import itertools "
   ]
  },
  {
   "cell_type": "markdown",
   "metadata": {},
   "source": [
    "## Códigos e discussão\n",
    "\n"
   ]
  },
  {
   "cell_type": "code",
   "execution_count": 10,
   "metadata": {},
   "outputs": [
    {
     "name": "stdout",
     "output_type": "stream",
     "text": [
      "[0, 0, 0, 0] 0\n",
      "[0, 0, 0, 1] 1\n",
      "[0, 0, 1, 0] 1\n",
      "[0, 0, 1, 1] 2\n",
      "[0, 1, 0, 0] 1\n",
      "[0, 1, 0, 1] 2\n",
      "[0, 1, 1, 0] 2\n",
      "[0, 1, 1, 1] 3\n",
      "[1, 0, 0, 0] 1\n",
      "[1, 0, 0, 1] 2\n",
      "[1, 0, 1, 0] 2\n",
      "[1, 0, 1, 1] 3\n",
      "[1, 1, 0, 0] 2\n",
      "[1, 1, 0, 1] 3\n",
      "[1, 1, 1, 0] 3\n",
      "[1, 1, 1, 1] 4\n"
     ]
    }
   ],
   "source": [
    "for gene1 in [0,1]:\n",
    "    for gene2 in [0,1]:\n",
    "        for gene3 in [0,1]:\n",
    "            for gene4 in [0,1]:\n",
    "                individuo = [gene1, gene2, gene3, gene4]\n",
    "                fobj = funcao_objetivo_cb (individuo) #fobj = funcao.funcao_objetivo_cb (indivíduo)\n",
    "                print (individuo, fobj)\n",
    "    "
   ]
  },
  {
   "cell_type": "code",
   "execution_count": 17,
   "metadata": {},
   "outputs": [
    {
     "name": "stdout",
     "output_type": "stream",
     "text": [
      "(0, 0, 0, 0) 0\n",
      "(0, 0, 0, 1) 1\n",
      "(0, 0, 1, 0) 1\n",
      "(0, 0, 1, 1) 2\n",
      "(0, 1, 0, 0) 1\n",
      "(0, 1, 0, 1) 2\n",
      "(0, 1, 1, 0) 2\n",
      "(0, 1, 1, 1) 3\n",
      "(1, 0, 0, 0) 1\n",
      "(1, 0, 0, 1) 2\n",
      "(1, 0, 1, 0) 2\n",
      "(1, 0, 1, 1) 3\n",
      "(1, 1, 0, 0) 2\n",
      "(1, 1, 0, 1) 3\n",
      "(1, 1, 1, 0) 3\n",
      "(1, 1, 1, 1) 4\n"
     ]
    }
   ],
   "source": [
    "for individuo in itertools.product ([0,1], [0,1], [0,1], [0,1]): # ou ([0,1], repeat = 4 )\n",
    "    fobj = funcao_objetivo_cb (individuo)\n",
    "    print (individuo, fobj)"
   ]
  },
  {
   "cell_type": "markdown",
   "metadata": {},
   "source": [
    "## Conclusão\n",
    "\n",
    "Nesse caderno, importamos uma função que já fora usada no caderno anterior \"A.01 Busca aleatória\" para fazer uma busca em grade que é uma das maneiras de se encontrar uma solução para um problema de otimização. A busca em grade visa testar todas as combinações possíveis entre um ou mais conjunto de parâmetros. Com isso, obtivemos um resultado determinístico no qual o método foi capaz de encontrar o máximo da função objetivo por causa de todos os teste que ele fez. O interessante dessa estratégia é que eu posso ter a garantia que vou encontrar esse resultado máximo, entretanto existe um problema associado ao valor exponencial dos testes que ele vai fazer e consequentemente, se o valor for alto, a minha máquina não vai conseguir rodar o código para a resolução do problema, e então, volta- se os olhos para a estratégia da busca aleatória."
   ]
  },
  {
   "cell_type": "markdown",
   "metadata": {},
   "source": [
    "## Playground\n",
    "\n"
   ]
  },
  {
   "cell_type": "code",
   "execution_count": null,
   "metadata": {},
   "outputs": [],
   "source": []
  }
 ],
 "metadata": {
  "kernelspec": {
   "display_name": "ilumpy",
   "language": "python",
   "name": "ilumpy"
  },
  "language_info": {
   "codemirror_mode": {
    "name": "ipython",
    "version": 3
   },
   "file_extension": ".py",
   "mimetype": "text/x-python",
   "name": "python",
   "nbconvert_exporter": "python",
   "pygments_lexer": "ipython3",
   "version": "3.9.7"
  },
  "org": null
 },
 "nbformat": 4,
 "nbformat_minor": 4
}
