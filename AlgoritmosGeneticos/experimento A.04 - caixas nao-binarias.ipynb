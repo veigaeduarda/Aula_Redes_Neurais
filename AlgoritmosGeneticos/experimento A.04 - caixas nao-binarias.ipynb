{
 "cells": [
  {
   "cell_type": "markdown",
   "metadata": {},
   "source": [
    " <font color= blue> Problema das caixas não-binárias\n",
    "================================\n",
    "\n"
   ]
  },
  {
   "cell_type": "markdown",
   "metadata": {},
   "source": [
    "## Objetivo\n",
    "\n"
   ]
  },
  {
   "cell_type": "markdown",
   "metadata": {},
   "source": [
    "Encontrar uma solução para o problema das caixas não-binárias usando um algoritmo genético. Considere 4 caixas. Considere que cada caixa pode ter um valor inteiro dentro do conjunto [0, 100].\n",
    "\n"
   ]
  },
  {
   "cell_type": "markdown",
   "metadata": {},
   "source": [
    "## Descrição do problema\n",
    "\n"
   ]
  },
  {
   "cell_type": "markdown",
   "metadata": {},
   "source": [
    "O problema das caixas não-binárias é simples: nós temos um certo número de caixas e cada uma pode conter um número inteiro. O objetivo é encontrar uma combinação de caixas onde a soma dos valores contidos dentro delas é máximo.\n",
    "\n"
   ]
  },
  {
   "cell_type": "markdown",
   "metadata": {},
   "source": [
    "## Importações\n",
    "\n"
   ]
  },
  {
   "cell_type": "code",
   "execution_count": 1,
   "metadata": {},
   "outputs": [],
   "source": [
    "from funcoes import populacao_cnb \n",
    "from funcoes import funcao_objetivo_pop_cnb as funcao_objetivo_pop\n",
    "from funcoes import selecao_roleta_max as funcao_selecao \n",
    "from funcoes import cruzamento_ponto_simples as funcao_cruzamento\n",
    "import random \n",
    "from funcoes import mutacao_cnb \n"
   ]
  },
  {
   "cell_type": "markdown",
   "metadata": {},
   "source": [
    "## Códigos e discussão\n",
    "\n"
   ]
  },
  {
   "cell_type": "code",
   "execution_count": 31,
   "metadata": {},
   "outputs": [],
   "source": [
    "# constantes à Busca\n",
    "\n",
    "TAMANHO_POP = 12\n",
    "NUM_GERACOES = 6\n",
    "CHANCE_CRUZAMENTO = 0.5\n",
    "CHANCE_MUTACAO = 0.01\n",
    "\n",
    "# relacionadas à esse problema.\n",
    "VALOR_MAX_CAIXA = 100\n",
    "NUM_GENES = 4\n"
   ]
  },
  {
   "cell_type": "code",
   "execution_count": 32,
   "metadata": {},
   "outputs": [],
   "source": [
    "# fazendo as funções locais\n",
    "\n",
    "def cria_populacao_inicial(tamanho, n_genes):\n",
    "    return populacao_cnb(tamanho, n_genes, VALOR_MAX_CAIXA)\n",
    "\n",
    "def funcao_mutacao(individuo):\n",
    "    return mutacao_cnb(individuo, VALOR_MAX_CAIXA)"
   ]
  },
  {
   "cell_type": "code",
   "execution_count": 33,
   "metadata": {},
   "outputs": [
    {
     "name": "stdout",
     "output_type": "stream",
     "text": [
      "População Incial:\n",
      "[[57, 61, 11, 99], [17, 23, 79, 35], [20, 1, 41, 39], [74, 84, 0, 99], [36, 87, 23, 16], [82, 77, 6, 51], [53, 65, 43, 49], [76, 98, 85, 7], [32, 22, 92, 31], [88, 69, 64, 42], [79, 42, 97, 39], [13, 79, 0, 83]]\n",
      "[[74, 84, 0, 99], [76, 98, 85, 7], [36, 87, 23, 16], [88, 69, 64, 42], [76, 98, 85, 7], [53, 65, 43, 49], [17, 23, 79, 35], [36, 87, 23, 16], [13, 79, 0, 83], [32, 22, 92, 31], [17, 23, 79, 35], [79, 42, 97, 39]]\n",
      "[[76, 84, 0, 99], [76, 65, 43, 49], [36, 87, 23, 16], [76, 84, 0, 99], [17, 23, 79, 35], [17, 23, 79, 35], [74, 98, 85, 7], [79, 42, 97, 39], [32, 22, 92, 31], [36, 87, 23, 16], [76, 65, 43, 49], [88, 69, 64, 42]]\n",
      "[[17, 23, 79, 35], [36, 87, 23, 16], [74, 98, 85, 7], [88, 69, 64, 42], [17, 23, 79, 35], [76, 84, 0, 68], [79, 42, 97, 39], [76, 65, 43, 49], [76, 84, 0, 68], [76, 65, 43, 49], [17, 23, 79, 35], [36, 87, 23, 16]]\n",
      "[[36, 87, 23, 16], [76, 65, 43, 68], [17, 23, 79, 35], [17, 23, 79, 68], [17, 23, 79, 68], [36, 23, 79, 35], [76, 65, 43, 68], [76, 65, 43, 39], [17, 23, 79, 35], [76, 84, 0, 35], [36, 87, 23, 16], [88, 69, 64, 42]]\n",
      "[[17, 23, 79, 68], [36, 23, 79, 68], [76, 84, 0, 35], [76, 65, 43, 39], [17, 23, 79, 68], [88, 69, 64, 16], [88, 69, 64, 16], [36, 87, 23, 42], [88, 69, 64, 16], [36, 23, 79, 68], [17, 23, 79, 68], [88, 69, 64, 16]]\n",
      "[[76, 84, 0, 35], [17, 23, 79, 68], [36, 23, 79, 68], [36, 23, 79, 68], [88, 69, 79, 68], [76, 84, 0, 35], [88, 69, 64, 16], [36, 23, 79, 68], [36, 87, 64, 16], [88, 69, 23, 42], [76, 65, 43, 39], [17, 23, 64, 16]]\n",
      "\n",
      "População Final\n",
      "\n",
      "[[76, 84, 0, 35], [17, 23, 79, 68], [36, 23, 79, 68], [36, 23, 79, 68], [88, 69, 79, 35], [76, 84, 0, 68], [88, 69, 64, 16], [36, 23, 79, 68], [36, 87, 64, 16], [88, 69, 23, 42], [76, 23, 64, 16], [17, 65, 43, 39]]\n"
     ]
    }
   ],
   "source": [
    "populacao = cria_populacao_inicial (TAMANHO_POP, NUM_GENES)\n",
    "\n",
    "print (\"População Incial:\")\n",
    "print (populacao)\n",
    "\n",
    "for n in range (NUM_GERACOES) :\n",
    "    \n",
    "    fitness =  funcao_objetivo_pop (populacao)\n",
    "    populacao =  funcao_selecao (populacao, fitness)\n",
    "    print(populacao)\n",
    "    pais = populacao [0::2] #começa pelo 0 e vai pulando de 2 em 2\n",
    "    maes = populacao [1::2] #começa pelo 1 e vai pulando de 2 em 2\n",
    "    contador = 0\n",
    "    \n",
    "    \n",
    "    for pai, mae in zip (pais, maes) :\n",
    "        \n",
    "        if random.random () < CHANCE_CRUZAMENTO:\n",
    "            #vai acontecer cruzamento\n",
    "            filho1, filho2 = funcao_cruzamento (pai, mae)\n",
    "            populacao [contador] = filho1\n",
    "            populacao [contador + 1] = filho2\n",
    "            \n",
    "        contador= contador + 2\n",
    "            \n",
    "        #else:\n",
    "            #não vai acontecer cruzamento :( \n",
    "    for n in range(len(populacao)):\n",
    "        if random.random () <= CHANCE_MUTACAO:\n",
    "            individuo = populacao [n]\n",
    "            populacao [n] = funcao_mutacao (individuo)\n",
    "        \n",
    "    \n",
    "\n",
    "print ()\n",
    "print (\"População Final\")\n",
    "print ()\n",
    "print (populacao)\n"
   ]
  },
  {
   "cell_type": "markdown",
   "metadata": {},
   "source": [
    "## Conclusão\n",
    "\n",
    "Tentar maximizar a soma dos valores das caixas. O objetivo da prática é entender como ocorreu o exercício.\n",
    "\n",
    "Eu entendi que a principal diferença dessa prática em comparação com a última foi a natureza probabilística ditada pelo número de mutações que ocorreram no código. Também foi possível observar como as contantes influenciaram no resultado final da minha população, pois fiz algumas mudanças e testes no número das constantes para ver diferentes resultados. "
   ]
  },
  {
   "cell_type": "markdown",
   "metadata": {},
   "source": [
    "## Playground\n",
    "\n"
   ]
  },
  {
   "cell_type": "code",
   "execution_count": null,
   "metadata": {},
   "outputs": [],
   "source": []
  }
 ],
 "metadata": {
  "kernelspec": {
   "display_name": "ilumpy",
   "language": "python",
   "name": "ilumpy"
  },
  "language_info": {
   "codemirror_mode": {
    "name": "ipython",
    "version": 3
   },
   "file_extension": ".py",
   "mimetype": "text/x-python",
   "name": "python",
   "nbconvert_exporter": "python",
   "pygments_lexer": "ipython3",
   "version": "3.9.7"
  },
  "org": null
 },
 "nbformat": 4,
 "nbformat_minor": 4
}
