{
 "cells": [
  {
   "cell_type": "markdown",
   "metadata": {},
   "source": [
    "Descobrindo a senha\n",
    "===================\n",
    "\n"
   ]
  },
  {
   "cell_type": "markdown",
   "metadata": {},
   "source": [
    "## Objetivo\n",
    "\n"
   ]
  },
  {
   "cell_type": "markdown",
   "metadata": {},
   "source": [
    "Usar um algoritmo genético para descobrir uma senha.\n",
    "\n"
   ]
  },
  {
   "cell_type": "markdown",
   "metadata": {},
   "source": [
    "## Descrição do problema\n",
    "\n"
   ]
  },
  {
   "cell_type": "markdown",
   "metadata": {},
   "source": [
    "Neste problema, a função objetivo deve saber a senha correta e quantificar de alguma maneira o quão perto ou longe os palpites estão da solução (veja que isso é algo que não temos no mundo real. Nenhum site irá te dizer se você está acertando ou errando seu palpite). O critério de parada deste problema é quando a senha for descoberta.\n",
    "\n"
   ]
  },
  {
   "cell_type": "markdown",
   "metadata": {},
   "source": [
    "## Importações\n",
    "\n"
   ]
  },
  {
   "cell_type": "code",
   "execution_count": 1,
   "metadata": {},
   "outputs": [],
   "source": [
    "from funcoes import populacao_inicial_senha\n",
    "from funcoes import funcao_objetivo_pop_senha\n",
    "from funcoes import selecao_torneio_min\n",
    "from funcoes import cruzamento_ponto_simples as funcao_cruzamento\n",
    "from funcoes import mutacao_senha\n",
    "import random"
   ]
  },
  {
   "cell_type": "markdown",
   "metadata": {},
   "source": [
    "## Códigos e discussão\n",
    "\n"
   ]
  },
  {
   "cell_type": "code",
   "execution_count": 2,
   "metadata": {},
   "outputs": [],
   "source": [
    "## CONSTANTES\n",
    "\n",
    "# relacionadas à busca\n",
    "TAMANHO_POP = 50\n",
    "CHANCE_CRUZAMENTO = 0.5\n",
    "CHANCE_MUTACAO = 0.05\n",
    "NUM_COMBATENTES_NO_TORNEIO = 3\n",
    "\n",
    "# relacionadas ao problema a ser resulvido\n",
    "SENHA = \"danitenhaumbomdia\"\n",
    "LETRAS_POSSIVEIS = \"abcdefghijklmnopqrstuvwxyz\"\n",
    "NUM_GENES = len(SENHA)"
   ]
  },
  {
   "cell_type": "code",
   "execution_count": 3,
   "metadata": {},
   "outputs": [],
   "source": [
    "# funções locais\n",
    "\n",
    "def cria_populacao_inicial(tamanho, tamanho_senha):\n",
    "    return populacao_inicial_senha(tamanho, tamanho_senha, LETRAS_POSSIVEIS)\n",
    "\n",
    "def funcao_objetivo_pop(populacao):\n",
    "    return funcao_objetivo_pop_senha(populacao, SENHA)\n",
    "\n",
    "def funcao_selecao(populacao, fitness):\n",
    "    return selecao_torneio_min(populacao, fitness, NUM_COMBATENTES_NO_TORNEIO)\n",
    "\n",
    "def funcao_mutacao(individuo):\n",
    "    return mutacao_senha(individuo, LETRAS_POSSIVEIS)"
   ]
  },
  {
   "cell_type": "code",
   "execution_count": 4,
   "metadata": {},
   "outputs": [
    {
     "name": "stdout",
     "output_type": "stream",
     "text": [
      "Progresso da melhor senha já vista:\n",
      "ehrjycjqsupkhfird - fitness: 94\n",
      "ehrjycjqsupkveewa - fitness: 93\n",
      "ehrjycjqsupiuaddd - fitness: 87\n",
      "nebhxbmhaupkveewa - fitness: 77\n",
      "ehrhxbmhaupkveewa - fitness: 63\n",
      "eebhxbmhaupkveahe - fitness: 61\n",
      "ehrhxbmhaupkveahe - fitness: 56\n",
      "ehrhxbmhauokveahe - fitness: 55\n",
      "ehrhxbmhaupkhiahd - fitness: 51\n",
      "eerhxbmhaupkhiahd - fitness: 48\n",
      "eerhxbmhauokvoahe - fitness: 46\n",
      "eerhxbmhauokvoahd - fitness: 45\n",
      "eerhxbnhauokvoahd - fitness: 44\n",
      "eerhxbnhauokvnahd - fitness: 43\n",
      "eerhxbnhauokknahd - fitness: 40\n",
      "eerhxbnhauokpnahd - fitness: 37\n",
      "eerhxbnhauokonahd - fitness: 36\n",
      "ecrhxbnhauokpnahd - fitness: 35\n",
      "eerhxbnhaulkpnaic - fitness: 34\n",
      "eerhxbnhaulkpneic - fitness: 32\n",
      "eerhxbnhaulkpndic - fitness: 31\n",
      "eerhtbnhaulkpndic - fitness: 27\n",
      "eerhtbnhaulgpndic - fitness: 23\n",
      "eerhtbnhaulcpndic - fitness: 19\n",
      "eerhtbnhaulcpmdic - fitness: 18\n",
      "eeqhtbnhaulcnmdic - fitness: 17\n",
      "eeqhtdnhaulcpmdic - fitness: 15\n",
      "eeqhtdnhaumcpmdic - fitness: 14\n",
      "eeohtdnhaumcpmdic - fitness: 12\n",
      "eeohtenhaumcpmdic - fitness: 11\n",
      "edohtenhaumcpmdic - fitness: 10\n",
      "edohtenhaumcpmdia - fitness: 8\n",
      "ddojtenhaumcpmdia - fitness: 7\n",
      "dbohtenhaumcpmdia - fitness: 5\n",
      "dbnhtenhaumcpmdia - fitness: 4\n",
      "dbnhtenhaumbpmdia - fitness: 3\n",
      "dbnhtenhaumbomdia - fitness: 2\n",
      "danhtenhaumbomdia - fitness: 1\n",
      "danitenhaumbomdia - fitness: 0\n",
      "\n",
      "Melhor palpite da senha encontrado:\n",
      "danitenhaumbomdia\n"
     ]
    }
   ],
   "source": [
    "populacao = cria_populacao_inicial(TAMANHO_POP, NUM_GENES)\n",
    "\n",
    "melhor_fitness_ja_visto = float(\"inf\")  # é assim que escrevemos infinito em python\n",
    "\n",
    "print(\"Progresso da melhor senha já vista:\")\n",
    "\n",
    "while melhor_fitness_ja_visto != 0:   \n",
    "    \n",
    "    # Seleção\n",
    "    fitness = funcao_objetivo_pop(populacao)\n",
    "    populacao = funcao_selecao(populacao, fitness)\n",
    "    \n",
    "    # Cruzamento\n",
    "    pais = populacao[0::2]\n",
    "    maes = populacao[1::2]\n",
    "    \n",
    "    contador = 0\n",
    "    \n",
    "    for pai, mae in zip(pais, maes):\n",
    "        if random.random() <= CHANCE_CRUZAMENTO:\n",
    "            filho1, filho2 = funcao_cruzamento(pai, mae)\n",
    "            populacao[contador] = filho1\n",
    "            populacao[contador + 1] = filho2\n",
    "        \n",
    "        contador = contador + 2   \n",
    "        \n",
    "    # Mutação\n",
    "    for n in range(len(populacao)):\n",
    "        if random.random() <= CHANCE_MUTACAO:\n",
    "            individuo = populacao[n]\n",
    "            populacao[n] = funcao_mutacao(individuo)            \n",
    "            \n",
    "    # melhor individuo já visto até agora\n",
    "    fitness = funcao_objetivo_pop(populacao)\n",
    "    menor_fitness = min(fitness)\n",
    "    if menor_fitness < melhor_fitness_ja_visto:        \n",
    "        posicao = fitness.index(menor_fitness)\n",
    "        melhor_individuo_ja_visto = populacao[posicao]\n",
    "        melhor_fitness_ja_visto = menor_fitness\n",
    "        print(\"\".join(melhor_individuo_ja_visto), \"- fitness:\", melhor_fitness_ja_visto)\n",
    "\n",
    "print()\n",
    "print(\"Melhor palpite da senha encontrado:\")\n",
    "print(\"\".join(melhor_individuo_ja_visto))"
   ]
  },
  {
   "cell_type": "markdown",
   "metadata": {},
   "source": [
    "## Conclusão\n",
    "\n"
   ]
  },
  {
   "cell_type": "markdown",
   "metadata": {},
   "source": [
    "O probelma desse experimento é descobrir uma senha que só tenha letras, a informação que ele usa para guiar a busca é a diferença da distância entre a senha esperada e senha que ele está tentando fazer. Para medir a distância entre duas palavras usamos a função `ord` para fazer a conversão de letras para números e calcular essa diferença. Criamos novas funções seguindo os parametros criados. Uma diferença desse experimento para os outros é que ele é um problema de minimização (minimizar a distância entre as senhas) e os que já vimos eram de maximização e por isso vamos usar o operador de seleção por torneio.\n",
    "\n",
    "`O operador de seleção por torneio:` \n",
    "\n",
    "        Sorteia _n_ indivíduos da população e o que tiver melhor valor de fitness 💪 (melhor performace) é o selecionado!\n",
    "\n",
    "O interessante é que o algortimo genético continua semelhante as outras práticas, entretanto, foi adicionado um hall da fama com _n=1_.\n",
    "\n",
    "`Hall da Fama ou melhor_individuo_ja_visto:` \n",
    "\n",
    "        É uma variável que armazena os n melhores indivíduos já vistos até o momento! (Só os melhores, os famosos hahahah) É um jeito de ver como o código faz rapidamente a descoberta em tempo real.\n",
    "        \n",
    "`Conclusão final:` \n",
    "\n",
    "       Foi um código interessante de discutir, pois mostra como o computador pensa e executa uma solução para o problema de senhas apresentado e de forma rápida. Também mostra que usar letras não é uma limitação para o nosso código, já que modemos converter letras em números. E uma coisa interessante também foi fazer o teste no playground com uma senha usando @ e ver que como eu não tinha colocado esse símbolo nas possibilidades, ele não foi convertido em número e automaticamente não foi possível acertar a senha, mas ele chegou no valor mais próximo, que seria a letra a.\n",
    "       \n"
   ]
  },
  {
   "cell_type": "markdown",
   "metadata": {},
   "source": [
    "## Playground\n",
    "\n"
   ]
  },
  {
   "cell_type": "code",
   "execution_count": 5,
   "metadata": {},
   "outputs": [],
   "source": [
    "# Teste do 'join' pra ver como funciona"
   ]
  },
  {
   "cell_type": "code",
   "execution_count": 6,
   "metadata": {},
   "outputs": [
    {
     "name": "stdout",
     "output_type": "stream",
     "text": [
      "Eduarda#Veiga#Carvalho\n",
      "EduardaVeigaCarvalho\n"
     ]
    }
   ],
   "source": [
    "myTuple = (\"Eduarda\", \"Veiga\", \"Carvalho\")\n",
    "\n",
    "x = \"#\".join(myTuple)\n",
    "y = \"\".join(myTuple)\n",
    "\n",
    "print(x)\n",
    "print(y)"
   ]
  },
  {
   "cell_type": "code",
   "execution_count": 7,
   "metadata": {},
   "outputs": [],
   "source": [
    "SENHA1= \"@eduardaveigac\""
   ]
  },
  {
   "cell_type": "code",
   "execution_count": 8,
   "metadata": {},
   "outputs": [],
   "source": [
    "def funcao_objetivo_pop(populacao):\n",
    "    return funcao_objetivo_pop_senha(populacao, SENHA1)\n"
   ]
  },
  {
   "cell_type": "code",
   "execution_count": null,
   "metadata": {},
   "outputs": [
    {
     "name": "stdout",
     "output_type": "stream",
     "text": [
      "Progresso da melhor senha já vista:\n",
      "aahjdibuvbbtabolr - fitness: 110\n",
      "aafjdibuvbbtabolr - fitness: 108\n",
      "amkwnfkhkdlfabolr - fitness: 106\n",
      "cguzrmabwflfabolr - fitness: 92\n",
      "eahjdfkbwflfabolr - fitness: 86\n",
      "amkwdmabwflfabolr - fitness: 69\n",
      "aafjdmabwfjfabolr - fitness: 67\n",
      "amkwdnabwfjfabolr - fitness: 66\n",
      "aafpdmabwfjfabolr - fitness: 61\n",
      "aafpdnabwfjfabolr - fitness: 60\n",
      "aafwdnabwfjfabolr - fitness: 57\n",
      "aafwdnabvfjfabolr - fitness: 56\n",
      "aafwduabwejfabolr - fitness: 55\n",
      "affwdnfbwejfabolr - fitness: 52\n",
      "affwdnfbvejfabolr - fitness: 51\n",
      "affwanfbwejfabolr - fitness: 49\n",
      "affwanfbvejfabolr - fitness: 48\n",
      "afcwanfbvejfabolr - fitness: 47\n",
      "afcwaufbvejfabolr - fitness: 46\n",
      "afcwapfbvejfabolr - fitness: 45\n",
      "afcwapfbvejfacooq - fitness: 44\n",
      "afcwapcbvejfacoeq - fitness: 43\n",
      "afcwaqcbvejfacoeq - fitness: 42\n",
      "afcwaqcbveifacoeq - fitness: 41\n",
      "afcwaqcaveifacoeq - fitness: 40\n",
      "afcwarcaveifacoiq - fitness: 39\n",
      "aecwarcaveifacoiq - fitness: 38\n",
      "aecwarcaveigacloq - fitness: 37\n",
      "aecvarcaveigaclvq - fitness: 36\n",
      "aecuarcaveigacooe - fitness: 35\n",
      "aeduarcaveigacooe - fitness: 34\n",
      "aeduardaveigactwx - fitness: 33\n"
     ]
    }
   ],
   "source": [
    "populacao = cria_populacao_inicial(TAMANHO_POP, NUM_GENES)\n",
    "\n",
    "melhor_fitness_ja_visto = float(\"inf\")  # é assim que escrevemos infinito em python\n",
    "\n",
    "print(\"Progresso da melhor senha já vista:\")\n",
    "\n",
    "while melhor_fitness_ja_visto != 0:   \n",
    "    \n",
    "    # Seleção\n",
    "    fitness = funcao_objetivo_pop(populacao)\n",
    "    populacao = funcao_selecao(populacao, fitness)\n",
    "    \n",
    "    # Cruzamento\n",
    "    pais = populacao[0::2]\n",
    "    maes = populacao[1::2]\n",
    "    \n",
    "    contador = 0\n",
    "    \n",
    "    for pai, mae in zip(pais, maes):\n",
    "        if random.random() <= CHANCE_CRUZAMENTO:\n",
    "            filho1, filho2 = funcao_cruzamento(pai, mae)\n",
    "            populacao[contador] = filho1\n",
    "            populacao[contador + 1] = filho2\n",
    "        \n",
    "        contador = contador + 2   \n",
    "        \n",
    "    # Mutação\n",
    "    for n in range(len(populacao)):\n",
    "        if random.random() <= CHANCE_MUTACAO:\n",
    "            individuo = populacao[n]\n",
    "            populacao[n] = funcao_mutacao(individuo)            \n",
    "            \n",
    "    # melhor individuo já visto até agora\n",
    "    fitness = funcao_objetivo_pop(populacao)\n",
    "    menor_fitness = min(fitness)\n",
    "    if menor_fitness < melhor_fitness_ja_visto:        \n",
    "        posicao = fitness.index(menor_fitness)\n",
    "        melhor_individuo_ja_visto = populacao[posicao]\n",
    "        melhor_fitness_ja_visto = menor_fitness\n",
    "        print(\"\".join(melhor_individuo_ja_visto), \"- fitness:\", melhor_fitness_ja_visto)\n",
    "\n",
    "print()\n",
    "print(\"Melhor palpite da senha encontrado:\")\n",
    "print(\"\".join(melhor_individuo_ja_visto))"
   ]
  },
  {
   "cell_type": "code",
   "execution_count": null,
   "metadata": {},
   "outputs": [],
   "source": [
    "\n",
    "SENHA2 = \"BOMDIA\"\n",
    "\n",
    "def funcao_objetivo_pop(populacao):\n",
    "    return funcao_objetivo_pop_senha(populacao, SENHA2)\n"
   ]
  },
  {
   "cell_type": "code",
   "execution_count": null,
   "metadata": {},
   "outputs": [],
   "source": [
    "populacao = cria_populacao_inicial(TAMANHO_POP, NUM_GENES)\n",
    "\n",
    "melhor_fitness_ja_visto = float(\"inf\")  # é assim que escrevemos infinito em python\n",
    "\n",
    "print(\"Progresso da melhor senha já vista:\")\n",
    "\n",
    "while melhor_fitness_ja_visto != 0:   \n",
    "    \n",
    "    # Seleção\n",
    "    fitness = funcao_objetivo_pop(populacao)\n",
    "    populacao = funcao_selecao(populacao, fitness)\n",
    "    \n",
    "    # Cruzamento\n",
    "    pais = populacao[0::2]\n",
    "    maes = populacao[1::2]\n",
    "    \n",
    "    contador = 0\n",
    "    \n",
    "    for pai, mae in zip(pais, maes):\n",
    "        if random.random() <= CHANCE_CRUZAMENTO:\n",
    "            filho1, filho2 = funcao_cruzamento(pai, mae)\n",
    "            populacao[contador] = filho1\n",
    "            populacao[contador + 1] = filho2\n",
    "        \n",
    "        contador = contador + 2   \n",
    "        \n",
    "    # Mutação\n",
    "    for n in range(len(populacao)):\n",
    "        if random.random() <= CHANCE_MUTACAO:\n",
    "            individuo = populacao[n]\n",
    "            populacao[n] = funcao_mutacao(individuo)            \n",
    "            \n",
    "    # melhor individuo já visto até agora\n",
    "    fitness = funcao_objetivo_pop(populacao)\n",
    "    menor_fitness = min(fitness)\n",
    "    if menor_fitness < melhor_fitness_ja_visto:        \n",
    "        posicao = fitness.index(menor_fitness)\n",
    "        melhor_individuo_ja_visto = populacao[posicao]\n",
    "        melhor_fitness_ja_visto = menor_fitness\n",
    "        print(\"\".join(melhor_individuo_ja_visto), \"- fitness:\", melhor_fitness_ja_visto)\n",
    "\n",
    "print()\n",
    "print(\"Melhor palpite da senha encontrado:\")\n",
    "print(\"\".join(melhor_individuo_ja_visto))"
   ]
  },
  {
   "cell_type": "code",
   "execution_count": null,
   "metadata": {},
   "outputs": [],
   "source": []
  }
 ],
 "metadata": {
  "kernelspec": {
   "display_name": "ilumpy",
   "language": "python",
   "name": "ilumpy"
  },
  "language_info": {
   "codemirror_mode": {
    "name": "ipython",
    "version": 3
   },
   "file_extension": ".py",
   "mimetype": "text/x-python",
   "name": "python",
   "nbconvert_exporter": "python",
   "pygments_lexer": "ipython3",
   "version": "3.9.7"
  },
  "org": null
 },
 "nbformat": 4,
 "nbformat_minor": 4
}
