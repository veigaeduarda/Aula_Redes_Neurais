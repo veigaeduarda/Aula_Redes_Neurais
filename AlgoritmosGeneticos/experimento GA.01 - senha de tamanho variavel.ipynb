{
 "cells": [
  {
   "cell_type": "markdown",
   "metadata": {},
   "source": [
    "<font color = #8792> `Senha de tamanho variável🤯`\n",
    "========================================\n",
    "\n"
   ]
  },
  {
   "cell_type": "markdown",
   "metadata": {},
   "source": [
    "## Introdução\n",
    "\n"
   ]
  },
  {
   "cell_type": "markdown",
   "metadata": {},
   "source": [
    "Acredito alguns passos do meu código seriam:\n",
    "\n",
    "- Criar uma função objetivo parecida com a dos outros experimentos que coloque se o candidato acertou a letra e o tamanho.\n",
    "- Mudar função objetivo e do indivíduo.\n",
    "- Como não vou fornecer o tamanho da senha para a função que gera população, então é bom colocar um tamanho máximo para tal.\n",
    "- Criar uma constante de penalidade\n",
    "- Cada Individuo será uma string aleatória formada pelas tentativas de codigo.\n",
    "- Fazer o fitness de cada individuo baseado na posição correta das tentativas da senha.\n",
    "- Com o \"hall da fama\" vou selecionar os melhores indivíduos\n",
    "- Para gerar a próxima geração, devem ser feitos mutações (alterando um caractere da string) e cruzamentos (dividindo a string).\n",
    "- Avaliar o fitness da nova população\n",
    "- Se uma solução for encontrada (aptidão = tamanho da senha) returnar a solução, caso o número de gerações for atingido e não for encontrado solução, retornar a melhor resposta da última geração."
   ]
  },
  {
   "cell_type": "markdown",
   "metadata": {},
   "source": [
    "## Objetivo\n",
    "\n"
   ]
  },
  {
   "cell_type": "markdown",
   "metadata": {},
   "source": [
    "Resolver o problema da senha sem fornecer a informação do tamanho da senha para a função que gera a população\n",
    "\n"
   ]
  },
  {
   "cell_type": "markdown",
   "metadata": {},
   "source": [
    "## Importações\n",
    "\n"
   ]
  },
  {
   "cell_type": "markdown",
   "metadata": {},
   "source": [
    "Todos os comandos de `import` devem estar dentro desta seção.\n",
    "\n"
   ]
  },
  {
   "cell_type": "code",
   "execution_count": 1,
   "metadata": {},
   "outputs": [],
   "source": [
    "from funcoes import gene_letra\n",
    "from funcoes import individuo_desafio\n",
    "from funcoes import pop_inicial_desafio\n",
    "from funcoes import funcao_objetivo_senha_desafio\n",
    "from funcoes import funcao_objetivo_pop_senha_desafio\n",
    "from funcoes import selecao_torneio_min\n",
    "from funcoes import cruzamento_ponto_simples_desafio \n",
    "from funcoes import mutacao_size\n",
    "import random "
   ]
  },
  {
   "cell_type": "markdown",
   "metadata": {},
   "source": [
    "## Códigos e discussão\n",
    "\n"
   ]
  },
  {
   "cell_type": "code",
   "execution_count": 2,
   "metadata": {},
   "outputs": [],
   "source": [
    "## CONSTANTES\n",
    "\n",
    "# relacionadas à busca\n",
    "TAMANHO_POP = 50\n",
    "CHANCE_CRUZAMENTO = 0.5\n",
    "CHANCE_MUTACAO = 0.05\n",
    "NUM_COMBATENTES_NO_TORNEIO = 3\n",
    "\n",
    "# relacionadas ao problema a ser resulvido\n",
    "SENHA = \"eu consegui!\"\n",
    "LETRAS_POSSIVEIS = \"Aabcdefghijklmnopqrstuvwxyz.,!é \"\n",
    "TAMANHO_MAX = 200\n",
    "PENALIDADE = 150\n"
   ]
  },
  {
   "cell_type": "code",
   "execution_count": 3,
   "metadata": {},
   "outputs": [],
   "source": [
    "# funções locais\n",
    "\n",
    "def cria_populacao_inicial(tamanho, tamanho_senha):\n",
    "    return pop_inicial_desafio(tamanho, tamanho_senha, LETRAS_POSSIVEIS)\n",
    "\n",
    "def funcao_objetivo_pop(populacao):\n",
    "    return funcao_objetivo_pop_senha_desafio(populacao, SENHA, PENALIDADE)\n",
    "\n",
    "def funcao_selecao(populacao, fitness):\n",
    "    return selecao_torneio_min(populacao, fitness, NUM_COMBATENTES_NO_TORNEIO)\n",
    "\n",
    "def funcao_mutacao(individuo):\n",
    "    return mutacao_size(individuo, LETRAS_POSSIVEIS, TAMANHO_MAX)"
   ]
  },
  {
   "cell_type": "code",
   "execution_count": 4,
   "metadata": {},
   "outputs": [
    {
     "name": "stdout",
     "output_type": "stream",
     "text": [
      "Progresso da melhor senha já vista:\n",
      "Geração:          1 - Indivíduo: btlayfkhonj,t xrunaoljbspggééigc,éwpcvdnrijAaj                                   - fitness: 172\n",
      "Geração:          2 - Indivíduo: etlpfyszpaj                                                                      - fitness: 162\n",
      "Geração:          3 - Indivíduo: fk,yvgszpaj owénze                                                               - fitness: 117\n",
      "Geração:          4 - Indivíduo: fk,yvfkhonj!w.ioge                                                               - fitness: 93\n",
      "Geração:          5 - Indivíduo: fk,yfykho                                                                        - fitness: 87\n",
      "Geração:          6 - Indivíduo: fk,pygsz                                                                         - fitness: 78\n",
      "Geração:          7 - Indivíduo: fk,ayfkho                                                                        - fitness: 65\n",
      "Geração:         10 - Indivíduo: fk,ayfsho                                                                        - fitness: 57\n",
      "Geração:         12 - Indivíduo: fk,avgsho                                                                        - fitness: 53\n",
      "Geração:         15 - Indivíduo: fo,avfsho                                                                        - fitness: 50\n",
      "Geração:         20 - Indivíduo: ft,ayfsho                                                                        - fitness: 48\n",
      "Geração:         22 - Indivíduo: fo,avfshf                                                                        - fitness: 43\n",
      "Geração:         24 - Indivíduo: ft,avfshf                                                                        - fitness: 38\n",
      "Geração:         34 - Indivíduo: ft,anfshf                                                                        - fitness: 32\n",
      "Geração:         37 - Indivíduo: ft,aofshf                                                                        - fitness: 31\n",
      "Geração:         40 - Indivíduo: ft!aofshf                                                                        - fitness: 20\n",
      "Geração:         42 - Indivíduo: ft!aofscf                                                                        - fitness: 19\n",
      "Geração:         64 - Indivíduo: ft!aojscf                                                                        - fitness: 15\n",
      "Geração:         75 - Indivíduo: ft!aolscf                                                                        - fitness: 13\n",
      "Geração:         78 - Indivíduo: ft!aomscf                                                                        - fitness: 12\n",
      "Geração:         85 - Indivíduo: et!aomscf                                                                        - fitness: 11\n",
      "Geração:         94 - Indivíduo: et!domscf                                                                        - fitness: 10\n",
      "Geração:        122 - Indivíduo: et!domsdf                                                                        - fitness: 9\n",
      "Geração:        176 - Indivíduo: et domsdf                                                                        - fitness: 8\n",
      "Geração:        208 - Indivíduo: et comsdf                                                                        - fitness: 7\n",
      "Geração:        252 - Indivíduo: et comsdg                                                                        - fitness: 6\n",
      "Geração:        259 - Indivíduo: eu comsdg                                                                        - fitness: 5\n",
      "Geração:        368 - Indivíduo: eu comseg                                                                        - fitness: 4\n",
      "Geração:        549 - Indivíduo: eu conseg                                                                        - fitness: 3\n",
      "Geração:      15042 - Indivíduo: eu consegu                                                                       - fitness: 2\n",
      "Geração:      15675 - Indivíduo: eu consegui                                                                      - fitness: 1\n",
      "Geração:      16122 - Indivíduo: eu consegui!                                                                     - fitness: 0\n",
      "\n",
      "Melhor palpite da senha encontrado:\n",
      "eu consegui!\n"
     ]
    }
   ],
   "source": [
    "populacao = cria_populacao_inicial(TAMANHO_POP, TAMANHO_MAX)\n",
    "\n",
    "melhor_fitness_ja_visto = float(\"inf\")  # é assim que escrevemos infinito em python\n",
    "\n",
    "print(\"Progresso da melhor senha já vista:\")\n",
    "\n",
    "\n",
    "num_gen = 1\n",
    "while melhor_fitness_ja_visto != 0:   \n",
    "    \n",
    "    # Seleção\n",
    "    fitness = funcao_objetivo_pop(populacao)\n",
    "    populacao = funcao_selecao(populacao, fitness)\n",
    "    \n",
    "    # Cruzamento\n",
    "    pais = populacao[0::2]\n",
    "    maes = populacao[1::2]\n",
    "    \n",
    "    contador = 0\n",
    "    \n",
    "    for pai, mae in zip(pais, maes):\n",
    "        if random.random() <= CHANCE_CRUZAMENTO:\n",
    "            filho1, filho2 = cruzamento_ponto_simples_desafio(pai, mae)\n",
    "            populacao[contador] = filho1\n",
    "            populacao[contador + 1] = filho2\n",
    "        \n",
    "        contador = contador + 2   \n",
    "        \n",
    "  # Mutação\n",
    "    for n in range(len(populacao)):\n",
    "        if random.random() <= CHANCE_MUTACAO:\n",
    "            individuo = populacao[n]\n",
    "            populacao[n] = funcao_mutacao(individuo)   \n",
    "            \n",
    "            \n",
    "   # melhor individuo já visto até agora\n",
    "    fitness = funcao_objetivo_pop(populacao)\n",
    "    menor_fitness = min(fitness)\n",
    "    if menor_fitness < melhor_fitness_ja_visto:        \n",
    "        posicao = fitness.index(menor_fitness)\n",
    "        melhor_individuo_ja_visto = populacao[posicao]\n",
    "        melhor_fitness_ja_visto = menor_fitness\n",
    "        string_individuo = ''.join(melhor_individuo_ja_visto)\n",
    "        print(f'Geração: {num_gen:10} - Indivíduo: {string_individuo:80} - fitness: {melhor_fitness_ja_visto}')\n",
    "        \n",
    "    num_gen += 1\n",
    "        \n",
    "print()\n",
    "print(\"Melhor palpite da senha encontrado:\")\n",
    "print(\"\".join(melhor_individuo_ja_visto))"
   ]
  },
  {
   "cell_type": "markdown",
   "metadata": {},
   "source": [
    "## Conclusão\n",
    "\n"
   ]
  },
  {
   "cell_type": "markdown",
   "metadata": {},
   "source": [
    "Nesse desafio eu usei um algoritmo genético para encontrar uma senha de tamanho variável, mas com uma restrição de tamanho máximo e uma penalidade associada a senhas que ultrapassem esse limite. A penalidade é usada para incentivar o código a gerar soluções com comprimentos dentro do intervalo que eu estipulei, reduzindo o tamanho da população e melhorando a eficiência do processo para resultar em uma solução mais rápida e precisa.\n",
    "\n",
    "Nessa abordagem, eu defini uma população inicial de senhas com comprimentos variáveis e, em seguida, utilizei operadores genéticos (como seleção, cruzamento e mutação) para gerar novas senhas candidatas e que obedeçam aos parâmetros estabelecidos nas contantes."
   ]
  },
  {
   "cell_type": "markdown",
   "metadata": {},
   "source": [
    "\n",
    "\n"
   ]
  },
  {
   "cell_type": "markdown",
   "metadata": {},
   "source": []
  },
  {
   "cell_type": "markdown",
   "metadata": {},
   "source": [
    "## Playground\n",
    "\n"
   ]
  },
  {
   "cell_type": "markdown",
   "metadata": {},
   "source": [
    "Todo código de teste que não faz parte do seu experimento deve vir aqui. Este código não será considerado na avaliação.\n",
    "\n"
   ]
  },
  {
   "cell_type": "code",
   "execution_count": null,
   "metadata": {},
   "outputs": [],
   "source": []
  }
 ],
 "metadata": {
  "kernelspec": {
   "display_name": "ilumpy",
   "language": "python",
   "name": "ilumpy"
  },
  "language_info": {
   "codemirror_mode": {
    "name": "ipython",
    "version": 3
   },
   "file_extension": ".py",
   "mimetype": "text/x-python",
   "name": "python",
   "nbconvert_exporter": "python",
   "pygments_lexer": "ipython3",
   "version": "3.9.7"
  },
  "org": null
 },
 "nbformat": 4,
 "nbformat_minor": 4
}
