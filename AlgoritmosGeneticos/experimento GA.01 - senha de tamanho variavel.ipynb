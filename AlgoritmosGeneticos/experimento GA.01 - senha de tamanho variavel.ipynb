{
 "cells": [
  {
   "cell_type": "markdown",
   "metadata": {},
   "source": [
    "<font color = #8792> `Senha de tamanho variável🤯`\n",
    "========================================\n",
    "\n"
   ]
  },
  {
   "cell_type": "markdown",
   "metadata": {},
   "source": [
    "## Introdução\n",
    "\n"
   ]
  },
  {
   "cell_type": "markdown",
   "metadata": {},
   "source": [
    "Acredito alguns passos do meu código seriam:\n",
    "\n",
    "- Criar uma função objetivo parecida com a dos outros experimentos que coloque se o candidato acertou a letra e o tamanho.\n",
    "- Mudar função objetivo e do indivíduo.\n",
    "- Como não vou fornecer o tamanho da senha para a função que gera população, então é bom colocar um tamanho máximo para tal.\n",
    "- Cada Individuo será uma string aleatória formada pelas tentativas de codigo.\n",
    "- Fazer o fitness de cada individuo baseado na posição correta das tentativas da senha.\n",
    "- Com o \"hall da fama\" vou selecionar os melhores indivíduos\n",
    "- Para gerar a próxima geração, devem ser feitos mutações (alterando um caractere da string) e cruzamentos (dividindo a string).\n",
    "- Avaliar o fitness da nova população\n",
    "- Se uma solução for encontrada (aptidão = tamanho da senha) returnar a solução, caso o número de gerações for atingido e não for encontrado solução, retornar a melhor resposta da última geração."
   ]
  },
  {
   "cell_type": "markdown",
   "metadata": {},
   "source": [
    "## Objetivo\n",
    "\n"
   ]
  },
  {
   "cell_type": "markdown",
   "metadata": {},
   "source": [
    "Resolver o problema da senha sem fornecer a informação do tamanho da senha para a função que gera a população\n",
    "\n"
   ]
  },
  {
   "cell_type": "markdown",
   "metadata": {},
   "source": [
    "## Importações\n",
    "\n"
   ]
  },
  {
   "cell_type": "markdown",
   "metadata": {},
   "source": [
    "Todos os comandos de `import` devem estar dentro desta seção.\n",
    "\n"
   ]
  },
  {
   "cell_type": "code",
   "execution_count": 1,
   "metadata": {},
   "outputs": [],
   "source": [
    "from funcoes import populacao_inicial_senha\n",
    "from funcoes import funcao_objetivo_senha_desafio\n",
    "from funcoes import selecao_torneio_min\n",
    "from funcoes import cruzamento_ponto_simples_desafio as funcao_cruzamento\n",
    "from funcoes import mutacao_size\n",
    "from funcoes import individuo_desafio\n",
    "from funcoes import populacao_inicial_desafio \n",
    "from funcoes import funcao_objetivo_pop_senha_desafio\n",
    "import random\n",
    "\n",
    "#falta mudar algumas funções"
   ]
  },
  {
   "cell_type": "markdown",
   "metadata": {},
   "source": [
    "## Códigos e discussão\n",
    "\n"
   ]
  },
  {
   "cell_type": "markdown",
   "metadata": {},
   "source": [
    "-   Use células de código para o código.\n",
    "\n",
    "-   Use células de texto para a discussão.\n",
    "\n",
    "-   A discussão não deve ser feita em comentários dentro das células de código. Toda discussão deve acontecer após o resultado sendo discutido foi apresentado. Exemplo: não discuta um gráfico antes de apresentá-lo.\n",
    "\n"
   ]
  },
  {
   "cell_type": "code",
   "execution_count": 2,
   "metadata": {},
   "outputs": [],
   "source": [
    "## CONSTANTES\n",
    "\n",
    "# relacionadas à busca\n",
    "TAMANHO_POP = 50\n",
    "CHANCE_CRUZAMENTO = 0.5\n",
    "CHANCE_MUTACAO = 0.05\n",
    "NUM_COMBATENTES_NO_TORNEIO = 3\n",
    "\n",
    "# relacionadas ao problema a ser resulvido\n",
    "SENHA = \"obrigadapepe\"\n",
    "LETRAS_POSSIVEIS = \"abcdefghijklmnopqrstuvwxyz\"\n",
    "NUM_GENES = len(SENHA)"
   ]
  },
  {
   "cell_type": "code",
   "execution_count": 3,
   "metadata": {},
   "outputs": [],
   "source": [
    "# funções locais\n",
    "\n",
    "def cria_populacao_inicial(tamanho, tamanho_senha):\n",
    "    return populacao_inicial_senha(tamanho, tamanho_senha, LETRAS_POSSIVEIS)\n",
    "\n",
    "def funcao_objetivo_pop(populacao):\n",
    "    return funcao_objetivo_pop_senha_desafio(populacao, SENHA)\n",
    "\n",
    "def funcao_selecao(populacao, fitness):\n",
    "    return selecao_torneio_min(populacao, fitness, NUM_COMBATENTES_NO_TORNEIO)\n",
    "\n",
    "def funcao_mutacao(individuo):\n",
    "    return mutacao_size(individuo)"
   ]
  },
  {
   "cell_type": "code",
   "execution_count": 4,
   "metadata": {},
   "outputs": [
    {
     "name": "stdout",
     "output_type": "stream",
     "text": [
      "Progresso da melhor senha já vista:\n",
      "ky - fitness: 37\n",
      " - fitness: 12\n"
     ]
    },
    {
     "ename": "ValueError",
     "evalue": "empty range for randrange() (1, 0, -1)",
     "output_type": "error",
     "traceback": [
      "\u001b[1;31m---------------------------------------------------------------------------\u001b[0m",
      "\u001b[1;31mValueError\u001b[0m                                Traceback (most recent call last)",
      "\u001b[1;32mC:\\Users\\EDUARD~1\\AppData\\Local\\Temp/ipykernel_42776/3444323420.py\u001b[0m in \u001b[0;36m<module>\u001b[1;34m\u001b[0m\n\u001b[0;32m     19\u001b[0m     \u001b[1;32mfor\u001b[0m \u001b[0mpai\u001b[0m\u001b[1;33m,\u001b[0m \u001b[0mmae\u001b[0m \u001b[1;32min\u001b[0m \u001b[0mzip\u001b[0m\u001b[1;33m(\u001b[0m\u001b[0mpais\u001b[0m\u001b[1;33m,\u001b[0m \u001b[0mmaes\u001b[0m\u001b[1;33m)\u001b[0m\u001b[1;33m:\u001b[0m\u001b[1;33m\u001b[0m\u001b[1;33m\u001b[0m\u001b[0m\n\u001b[0;32m     20\u001b[0m         \u001b[1;32mif\u001b[0m \u001b[0mrandom\u001b[0m\u001b[1;33m.\u001b[0m\u001b[0mrandom\u001b[0m\u001b[1;33m(\u001b[0m\u001b[1;33m)\u001b[0m \u001b[1;33m<=\u001b[0m \u001b[0mCHANCE_CRUZAMENTO\u001b[0m\u001b[1;33m:\u001b[0m\u001b[1;33m\u001b[0m\u001b[1;33m\u001b[0m\u001b[0m\n\u001b[1;32m---> 21\u001b[1;33m             \u001b[0mfilho1\u001b[0m\u001b[1;33m,\u001b[0m \u001b[0mfilho2\u001b[0m \u001b[1;33m=\u001b[0m \u001b[0mfuncao_cruzamento\u001b[0m\u001b[1;33m(\u001b[0m\u001b[0mpai\u001b[0m\u001b[1;33m,\u001b[0m \u001b[0mmae\u001b[0m\u001b[1;33m)\u001b[0m\u001b[1;33m\u001b[0m\u001b[1;33m\u001b[0m\u001b[0m\n\u001b[0m\u001b[0;32m     22\u001b[0m             \u001b[0mpopulacao\u001b[0m\u001b[1;33m[\u001b[0m\u001b[0mcontador\u001b[0m\u001b[1;33m]\u001b[0m \u001b[1;33m=\u001b[0m \u001b[0mfilho1\u001b[0m\u001b[1;33m\u001b[0m\u001b[1;33m\u001b[0m\u001b[0m\n\u001b[0;32m     23\u001b[0m             \u001b[0mpopulacao\u001b[0m\u001b[1;33m[\u001b[0m\u001b[0mcontador\u001b[0m \u001b[1;33m+\u001b[0m \u001b[1;36m1\u001b[0m\u001b[1;33m]\u001b[0m \u001b[1;33m=\u001b[0m \u001b[0mfilho2\u001b[0m\u001b[1;33m\u001b[0m\u001b[1;33m\u001b[0m\u001b[0m\n",
      "\u001b[1;32mC:\\JupyterLab\\GitHub\\Aula_Redes_Neurais\\AlgoritmosGeneticos\\funcoes.py\u001b[0m in \u001b[0;36mcruzamento_ponto_simples_desafio\u001b[1;34m(pai, mae)\u001b[0m\n\u001b[0;32m    427\u001b[0m     \"\"\"\n\u001b[0;32m    428\u001b[0m     \u001b[1;32mif\u001b[0m \u001b[0mlen\u001b[0m\u001b[1;33m(\u001b[0m\u001b[0mpai\u001b[0m\u001b[1;33m)\u001b[0m \u001b[1;33m>\u001b[0m \u001b[0mlen\u001b[0m\u001b[1;33m(\u001b[0m\u001b[0mmae\u001b[0m\u001b[1;33m)\u001b[0m\u001b[1;33m:\u001b[0m\u001b[1;33m\u001b[0m\u001b[1;33m\u001b[0m\u001b[0m\n\u001b[1;32m--> 429\u001b[1;33m         \u001b[0mponto_de_corte\u001b[0m \u001b[1;33m=\u001b[0m \u001b[0mrandom\u001b[0m\u001b[1;33m.\u001b[0m\u001b[0mrandint\u001b[0m\u001b[1;33m(\u001b[0m\u001b[1;36m1\u001b[0m\u001b[1;33m,\u001b[0m \u001b[0mlen\u001b[0m\u001b[1;33m(\u001b[0m\u001b[0mmae\u001b[0m\u001b[1;33m)\u001b[0m \u001b[1;33m-\u001b[0m \u001b[1;36m1\u001b[0m\u001b[1;33m)\u001b[0m\u001b[1;33m\u001b[0m\u001b[1;33m\u001b[0m\u001b[0m\n\u001b[0m\u001b[0;32m    430\u001b[0m \u001b[1;33m\u001b[0m\u001b[0m\n\u001b[0;32m    431\u001b[0m     \u001b[1;32mif\u001b[0m \u001b[0mlen\u001b[0m\u001b[1;33m(\u001b[0m\u001b[0mmae\u001b[0m\u001b[1;33m)\u001b[0m \u001b[1;33m>\u001b[0m \u001b[0mlen\u001b[0m\u001b[1;33m(\u001b[0m\u001b[0mpai\u001b[0m\u001b[1;33m)\u001b[0m\u001b[1;33m:\u001b[0m\u001b[1;33m\u001b[0m\u001b[1;33m\u001b[0m\u001b[0m\n",
      "\u001b[1;32mC:\\Program Files\\Python39\\lib\\random.py\u001b[0m in \u001b[0;36mrandint\u001b[1;34m(self, a, b)\u001b[0m\n\u001b[0;32m    336\u001b[0m         \"\"\"\n\u001b[0;32m    337\u001b[0m \u001b[1;33m\u001b[0m\u001b[0m\n\u001b[1;32m--> 338\u001b[1;33m         \u001b[1;32mreturn\u001b[0m \u001b[0mself\u001b[0m\u001b[1;33m.\u001b[0m\u001b[0mrandrange\u001b[0m\u001b[1;33m(\u001b[0m\u001b[0ma\u001b[0m\u001b[1;33m,\u001b[0m \u001b[0mb\u001b[0m\u001b[1;33m+\u001b[0m\u001b[1;36m1\u001b[0m\u001b[1;33m)\u001b[0m\u001b[1;33m\u001b[0m\u001b[1;33m\u001b[0m\u001b[0m\n\u001b[0m\u001b[0;32m    339\u001b[0m \u001b[1;33m\u001b[0m\u001b[0m\n\u001b[0;32m    340\u001b[0m \u001b[1;33m\u001b[0m\u001b[0m\n",
      "\u001b[1;32mC:\\Program Files\\Python39\\lib\\random.py\u001b[0m in \u001b[0;36mrandrange\u001b[1;34m(self, start, stop, step)\u001b[0m\n\u001b[0;32m    314\u001b[0m             \u001b[1;32mreturn\u001b[0m \u001b[0mistart\u001b[0m \u001b[1;33m+\u001b[0m \u001b[0mself\u001b[0m\u001b[1;33m.\u001b[0m\u001b[0m_randbelow\u001b[0m\u001b[1;33m(\u001b[0m\u001b[0mwidth\u001b[0m\u001b[1;33m)\u001b[0m\u001b[1;33m\u001b[0m\u001b[1;33m\u001b[0m\u001b[0m\n\u001b[0;32m    315\u001b[0m         \u001b[1;32mif\u001b[0m \u001b[0mstep\u001b[0m \u001b[1;33m==\u001b[0m \u001b[1;36m1\u001b[0m\u001b[1;33m:\u001b[0m\u001b[1;33m\u001b[0m\u001b[1;33m\u001b[0m\u001b[0m\n\u001b[1;32m--> 316\u001b[1;33m             \u001b[1;32mraise\u001b[0m \u001b[0mValueError\u001b[0m\u001b[1;33m(\u001b[0m\u001b[1;34m\"empty range for randrange() (%d, %d, %d)\"\u001b[0m \u001b[1;33m%\u001b[0m \u001b[1;33m(\u001b[0m\u001b[0mistart\u001b[0m\u001b[1;33m,\u001b[0m \u001b[0mistop\u001b[0m\u001b[1;33m,\u001b[0m \u001b[0mwidth\u001b[0m\u001b[1;33m)\u001b[0m\u001b[1;33m)\u001b[0m\u001b[1;33m\u001b[0m\u001b[1;33m\u001b[0m\u001b[0m\n\u001b[0m\u001b[0;32m    317\u001b[0m \u001b[1;33m\u001b[0m\u001b[0m\n\u001b[0;32m    318\u001b[0m         \u001b[1;31m# Non-unit step argument supplied.\u001b[0m\u001b[1;33m\u001b[0m\u001b[1;33m\u001b[0m\u001b[0m\n",
      "\u001b[1;31mValueError\u001b[0m: empty range for randrange() (1, 0, -1)"
     ]
    }
   ],
   "source": [
    "populacao = cria_populacao_inicial(TAMANHO_POP, NUM_GENES)\n",
    "\n",
    "melhor_fitness_ja_visto = float(\"inf\")  # é assim que escrevemos infinito em python\n",
    "\n",
    "print(\"Progresso da melhor senha já vista:\")\n",
    "\n",
    "while melhor_fitness_ja_visto != 0:   \n",
    "    \n",
    "    # Seleção\n",
    "    fitness = funcao_objetivo_pop(populacao)\n",
    "    populacao = funcao_selecao(populacao, fitness)\n",
    "    \n",
    "    # Cruzamento\n",
    "    pais = populacao[0::2]\n",
    "    maes = populacao[1::2]\n",
    "    \n",
    "    contador = 0\n",
    "    \n",
    "    for pai, mae in zip(pais, maes):\n",
    "        if random.random() <= CHANCE_CRUZAMENTO:\n",
    "            filho1, filho2 = funcao_cruzamento(pai, mae)\n",
    "            populacao[contador] = filho1\n",
    "            populacao[contador + 1] = filho2\n",
    "        \n",
    "        contador = contador + 2   \n",
    "        \n",
    "    # Mutação\n",
    "    for n in range(len(populacao)):\n",
    "        if random.random() <= CHANCE_MUTACAO:\n",
    "            individuo = populacao[n]\n",
    "            populacao[n] = funcao_mutacao(individuo)            \n",
    "            \n",
    "    # melhor individuo já visto até agora\n",
    "    fitness = funcao_objetivo_pop(populacao)\n",
    "    menor_fitness = min(fitness)\n",
    "    if menor_fitness < melhor_fitness_ja_visto:        \n",
    "        posicao = fitness.index(menor_fitness)\n",
    "        melhor_individuo_ja_visto = populacao[posicao]\n",
    "        melhor_fitness_ja_visto = menor_fitness\n",
    "        print(\"\".join(melhor_individuo_ja_visto), \"- fitness:\", melhor_fitness_ja_visto)\n",
    "\n",
    "print()\n",
    "print(\"Melhor palpite da senha encontrado:\")\n",
    "print(\"\".join(melhor_individuo_ja_visto))"
   ]
  },
  {
   "cell_type": "markdown",
   "metadata": {},
   "source": [
    "## Conclusão\n",
    "\n"
   ]
  },
  {
   "cell_type": "markdown",
   "metadata": {},
   "source": [
    "Delete este texto e escreva sua conclusão.\n",
    "\n"
   ]
  },
  {
   "cell_type": "markdown",
   "metadata": {},
   "source": [
    "## Referências consultadas\n",
    "\n"
   ]
  },
  {
   "cell_type": "markdown",
   "metadata": {},
   "source": [
    "1.  Delete este texto e inclua suas referências ordenadas numericamente. Se for referenciar no notebook, use o número entre colchetes (exemplo: para citar essa referência aqui escreva &ldquo;[1]&rdquo; sem as áspas).\n",
    "\n",
    "2.  Cada item deve ser numerado. Siga o padrão apresentado.\n",
    "\n",
    "3.  Caso não tenha nenhuma referência consultada, delete esta seção e o texto contido nela!\n",
    "\n"
   ]
  },
  {
   "cell_type": "markdown",
   "metadata": {},
   "source": [
    "## Playground\n",
    "\n"
   ]
  },
  {
   "cell_type": "markdown",
   "metadata": {},
   "source": [
    "Todo código de teste que não faz parte do seu experimento deve vir aqui. Este código não será considerado na avaliação.\n",
    "\n"
   ]
  },
  {
   "cell_type": "code",
   "execution_count": null,
   "metadata": {},
   "outputs": [],
   "source": []
  }
 ],
 "metadata": {
  "kernelspec": {
   "display_name": "ilumpy",
   "language": "python",
   "name": "ilumpy"
  },
  "language_info": {
   "codemirror_mode": {
    "name": "ipython",
    "version": 3
   },
   "file_extension": ".py",
   "mimetype": "text/x-python",
   "name": "python",
   "nbconvert_exporter": "python",
   "pygments_lexer": "ipython3",
   "version": "3.9.7"
  },
  "org": null
 },
 "nbformat": 4,
 "nbformat_minor": 4
}
