{
 "cells": [
  {
   "cell_type": "markdown",
   "metadata": {},
   "source": [
    "Finalizando a classe Valor\n",
    "==========================\n",
    "\n"
   ]
  },
  {
   "cell_type": "markdown",
   "metadata": {},
   "source": [
    "## Introdução\n",
    "\n"
   ]
  },
  {
   "cell_type": "markdown",
   "metadata": {},
   "source": [
    "Chegou a hora de finalizar a classe `Valor`!\n",
    "\n"
   ]
  },
  {
   "cell_type": "markdown",
   "metadata": {},
   "source": [
    "## Objetivo\n",
    "\n"
   ]
  },
  {
   "cell_type": "markdown",
   "metadata": {},
   "source": [
    "O objetivo é fazer com que a classe `Valor` seja capaz de realizar algumas operações necessárias para que seja usada na nossa rede neural artificial.\n",
    "\n"
   ]
  },
  {
   "cell_type": "markdown",
   "metadata": {},
   "source": [
    "## Importações\n",
    "\n"
   ]
  },
  {
   "cell_type": "code",
   "execution_count": 38,
   "metadata": {},
   "outputs": [],
   "source": [
    "import math\n",
    "from funcoes import plota_grafo"
   ]
  },
  {
   "cell_type": "markdown",
   "metadata": {},
   "source": [
    "## Código e discussão\n",
    "\n"
   ]
  },
  {
   "cell_type": "markdown",
   "metadata": {},
   "source": [
    "### Finalizando a classe `Valor`\n",
    "\n"
   ]
  },
  {
   "cell_type": "markdown",
   "metadata": {},
   "source": [
    "Aqui está a classe `Valor` assim como feita na aula anterior. Vamos modificá-la para cumprir nossos objetivos (ver objetivos na próxima seção).\n",
    "\n"
   ]
  },
  {
   "cell_type": "code",
   "execution_count": 80,
   "metadata": {},
   "outputs": [],
   "source": [
    "class Valor:\n",
    "    def __init__(self, data, progenitor=(), operador_mae=\"\", rotulo=\"\"):\n",
    "        self.data = data\n",
    "        self.progenitor = progenitor\n",
    "        self.operador_mae = operador_mae\n",
    "        self.rotulo = rotulo\n",
    "        self.grad = 0\n",
    "\n",
    "    def __repr__(self):\n",
    "        return f\"Valor(data={self.data})\"\n",
    "\n",
    "    def __add__(self, outro_valor):\n",
    "        if not isinstance(outro_valor, Valor):\n",
    "            outro_valor = Valor(outro_valor)\n",
    "        data = self.data + outro_valor.data\n",
    "        progenitor = (self, outro_valor)\n",
    "        operador_mae = \"+\"\n",
    "        saida = Valor(data, progenitor, operador_mae)\n",
    "\n",
    "        def propagar_adicao():\n",
    "            self.grad += saida.grad * 1\n",
    "            outro_valor.grad += saida.grad * 1\n",
    "\n",
    "        saida.propagar = propagar_adicao\n",
    "\n",
    "        return saida\n",
    "    \n",
    "    def __radd__(self, outro_valor): # outro_valor + self\n",
    "        return self + outro_valor\n",
    "\n",
    "    def __mul__(self, outro_valor):\n",
    "        if not isinstance(outro_valor, Valor):\n",
    "            outro_valor = Valor(outro_valor)\n",
    "        data = self.data * outro_valor.data\n",
    "        progenitor = (self, outro_valor)\n",
    "        operador_mae = \"*\"\n",
    "        saida = Valor(data, progenitor, operador_mae)\n",
    "\n",
    "        def propagar_multiplicacao():\n",
    "            self.grad += saida.grad * outro_valor.data\n",
    "            outro_valor.grad += saida.grad * self.data\n",
    "\n",
    "        saida.propagar = propagar_multiplicacao\n",
    "\n",
    "        return saida\n",
    "    \n",
    "    def __rmul__(self, outro_valor): # outro_valor * self\n",
    "        return self * outro_valor\n",
    "    \n",
    "    def __pow__(self, expoente):  # self ** expoente\n",
    "        \n",
    "        assert isinstance(expoente, (int, float))\n",
    "\n",
    "        data = self.data ** expoente\n",
    "        progenitor = (self, )\n",
    "        operador_mae = f\"**{expoente}\"\n",
    "        saida = Valor(data, progenitor, operador_mae)\n",
    "\n",
    "        def propagar_exponenciacao():\n",
    "            self.grad += saida.grad * expoente * (self.data ** (expoente - 1))\n",
    "\n",
    "        saida.propagar = propagar_exponenciacao\n",
    "\n",
    "        return saida\n",
    "    \n",
    "    def __truediv__(self, outro_valor): # self / outro_valor\n",
    "        return self * outro_valor ** (-1)\n",
    "    \n",
    "    def __neg__(self):  # - self\n",
    "        return self * (-1)\n",
    "    \n",
    "    def __sub__(self, outro_valor):  # self - outro_valor\n",
    "        return self + (-outro_valor)\n",
    "    \n",
    "    def __rsub__(self, outro_valor):  # outro_valor - self\n",
    "        return self * (-1) + outro_valor\n",
    "    \n",
    "    def exp(self):\n",
    "\n",
    "        data = math.exp(self.data)\n",
    "        progenitor = (self, )\n",
    "        operador_mae = \"exp\"\n",
    "        saida = Valor(data, progenitor, operador_mae)\n",
    "\n",
    "        def propagar_exp():\n",
    "            self.grad += saida.grad * data\n",
    "\n",
    "        saida.propagar = propagar_exp\n",
    "\n",
    "        return saida\n",
    "    \n",
    "    def sig(self): \n",
    "        return self.exp() / (self.exp() + 1)\n",
    "\n",
    "    def propagar(self):\n",
    "        pass\n",
    "\n",
    "    def propagar_tudo(self):\n",
    "        ordem_topologica = []\n",
    "        visitados = set()\n",
    "\n",
    "        def constroi_ordem_topologica(v):\n",
    "            if v not in visitados:\n",
    "                visitados.add(v)\n",
    "                for progenitor in v.progenitor:\n",
    "                    constroi_ordem_topologica(progenitor)\n",
    "                ordem_topologica.append(v)\n",
    "\n",
    "        constroi_ordem_topologica(self)\n",
    "\n",
    "        self.grad = 1  # o gradiente do vértice folha deve ser 1\n",
    "\n",
    "        for v in reversed(ordem_topologica):\n",
    "            v.propagar()"
   ]
  },
  {
   "cell_type": "markdown",
   "metadata": {},
   "source": [
    "### Objetivos a serem cumpridos\n",
    "\n"
   ]
  },
  {
   "cell_type": "markdown",
   "metadata": {},
   "source": [
    "Quero poder acidionar uma instância de `Valor` com uma constante qualquer.\n",
    "\n"
   ]
  },
  {
   "cell_type": "code",
   "execution_count": 81,
   "metadata": {},
   "outputs": [
    {
     "data": {
      "text/plain": [
       "Valor(data=11)"
      ]
     },
     "execution_count": 81,
     "metadata": {},
     "output_type": "execute_result"
    }
   ],
   "source": [
    "a = Valor(10, rotulo=\"a\")\n",
    "b = a + 1\n",
    "a.__add__(1)"
   ]
  },
  {
   "cell_type": "markdown",
   "metadata": {},
   "source": [
    "Quero poder multiplicar uma instância de `Valor` com uma constante qualquer.\n",
    "\n"
   ]
  },
  {
   "cell_type": "code",
   "execution_count": 82,
   "metadata": {},
   "outputs": [
    {
     "name": "stdout",
     "output_type": "stream",
     "text": [
      "Valor(data=100)\n"
     ]
    }
   ],
   "source": [
    "a = Valor(10, rotulo=\"a\")\n",
    "b = a * 10\n",
    "print(b)"
   ]
  },
  {
   "cell_type": "markdown",
   "metadata": {},
   "source": [
    "Quero poder acidionar uma instância de `Valor` com uma constante qualquer, mas na ordem oposta.\n",
    "\n"
   ]
  },
  {
   "cell_type": "code",
   "execution_count": 83,
   "metadata": {},
   "outputs": [
    {
     "name": "stdout",
     "output_type": "stream",
     "text": [
      "Valor(data=11)\n"
     ]
    }
   ],
   "source": [
    "a = Valor(10, rotulo=\"a\")\n",
    "b = 1 + a\n",
    "print(b)"
   ]
  },
  {
   "cell_type": "markdown",
   "metadata": {},
   "source": [
    "Quero poder multiplicar uma instância de `Valor` com uma constante qualquer, mas na ordem oposta.\n",
    "\n"
   ]
  },
  {
   "cell_type": "code",
   "execution_count": 84,
   "metadata": {},
   "outputs": [
    {
     "name": "stdout",
     "output_type": "stream",
     "text": [
      "Valor(data=100)\n"
     ]
    }
   ],
   "source": [
    "a = Valor(10, rotulo=\"a\")\n",
    "b = 10 * a\n",
    "print(b)"
   ]
  },
  {
   "cell_type": "markdown",
   "metadata": {},
   "source": [
    "Quero poder aplicar a função exponencial ($e^x$) em uma instância de `Valor`, computando corretamente o gradiente local desta operação.\n",
    "\n"
   ]
  },
  {
   "cell_type": "code",
   "execution_count": 85,
   "metadata": {},
   "outputs": [
    {
     "name": "stdout",
     "output_type": "stream",
     "text": [
      "Valor(data=2.718281828459045)\n"
     ]
    }
   ],
   "source": [
    "a = Valor(1, rotulo=\"a\")\n",
    "b = a.exp()\n",
    "print(b)"
   ]
  },
  {
   "cell_type": "markdown",
   "metadata": {},
   "source": [
    "Quero poder elevar uma instância de `Valor` a um número real qualquer. **Nota**: não vai funcionar se fizer um `Valor` elevado a outro `Valor` pois vamos propagar os gradientes apenas considerando que estamos elevando a uma constante qualquer.\n",
    "\n"
   ]
  },
  {
   "cell_type": "code",
   "execution_count": 86,
   "metadata": {},
   "outputs": [
    {
     "name": "stdout",
     "output_type": "stream",
     "text": [
      "Valor(data=100)\n"
     ]
    }
   ],
   "source": [
    "a = Valor(10, rotulo=\"a\")\n",
    "b = a**2\n",
    "print(b)"
   ]
  },
  {
   "cell_type": "markdown",
   "metadata": {},
   "source": [
    "Quero poder dividir uma instância de `Valor` por outra instância de `Valor`.\n",
    "\n"
   ]
  },
  {
   "cell_type": "code",
   "execution_count": 87,
   "metadata": {},
   "outputs": [
    {
     "name": "stdout",
     "output_type": "stream",
     "text": [
      "Valor(data=0.5)\n"
     ]
    },
    {
     "data": {
      "image/svg+xml": [
       "<?xml version=\"1.0\" encoding=\"UTF-8\" standalone=\"no\"?>\n",
       "<!DOCTYPE svg PUBLIC \"-//W3C//DTD SVG 1.1//EN\"\n",
       " \"http://www.w3.org/Graphics/SVG/1.1/DTD/svg11.dtd\">\n",
       "<!-- Generated by graphviz version 2.43.0 (0)\n",
       " -->\n",
       "<!-- Title: %3 Pages: 1 -->\n",
       "<svg width=\"953pt\" height=\"100pt\"\n",
       " viewBox=\"0.00 0.00 953.19 100.00\" xmlns=\"http://www.w3.org/2000/svg\" xmlns:xlink=\"http://www.w3.org/1999/xlink\">\n",
       "<g id=\"graph0\" class=\"graph\" transform=\"scale(1 1) rotate(0) translate(4 96)\">\n",
       "<title>%3</title>\n",
       "<polygon fill=\"white\" stroke=\"transparent\" points=\"-4,4 -4,-96 949.19,-96 949.19,4 -4,4\"/>\n",
       "<!-- 140127475732096 -->\n",
       "<g id=\"node1\" class=\"node\">\n",
       "<title>140127475732096</title>\n",
       "<polygon fill=\"none\" stroke=\"black\" points=\"363.19,-0.5 363.19,-36.5 590.19,-36.5 590.19,-0.5 363.19,-0.5\"/>\n",
       "<text text-anchor=\"middle\" x=\"373.69\" y=\"-14.8\" font-family=\"Times,serif\" font-size=\"14.00\"> </text>\n",
       "<polyline fill=\"none\" stroke=\"black\" points=\"384.19,-0.5 384.19,-36.5 \"/>\n",
       "<text text-anchor=\"middle\" x=\"435.19\" y=\"-14.8\" font-family=\"Times,serif\" font-size=\"14.00\">data 0.5000</text>\n",
       "<polyline fill=\"none\" stroke=\"black\" points=\"486.19,-0.5 486.19,-36.5 \"/>\n",
       "<text text-anchor=\"middle\" x=\"538.19\" y=\"-14.8\" font-family=\"Times,serif\" font-size=\"14.00\">grad 0.0000</text>\n",
       "</g>\n",
       "<!-- 140127475729744* -->\n",
       "<g id=\"node6\" class=\"node\">\n",
       "<title>140127475729744*</title>\n",
       "<ellipse fill=\"none\" stroke=\"black\" cx=\"655.19\" cy=\"-45.5\" rx=\"27\" ry=\"18\"/>\n",
       "<text text-anchor=\"middle\" x=\"655.19\" y=\"-41.8\" font-family=\"Times,serif\" font-size=\"14.00\">*</text>\n",
       "</g>\n",
       "<!-- 140127475732096&#45;&gt;140127475729744* -->\n",
       "<g id=\"edge4\" class=\"edge\">\n",
       "<title>140127475732096&#45;&gt;140127475729744*</title>\n",
       "<path fill=\"none\" stroke=\"black\" d=\"M590.22,-35.71C600.34,-37.26 610,-38.74 618.6,-40.06\"/>\n",
       "<polygon fill=\"black\" stroke=\"black\" points=\"618.12,-43.52 628.54,-41.57 619.18,-36.6 618.12,-43.52\"/>\n",
       "</g>\n",
       "<!-- 140127475732096**&#45;1 -->\n",
       "<g id=\"node2\" class=\"node\">\n",
       "<title>140127475732096**&#45;1</title>\n",
       "<ellipse fill=\"none\" stroke=\"black\" cx=\"296.6\" cy=\"-18.5\" rx=\"28.7\" ry=\"18\"/>\n",
       "<text text-anchor=\"middle\" x=\"296.6\" y=\"-14.8\" font-family=\"Times,serif\" font-size=\"14.00\">**&#45;1</text>\n",
       "</g>\n",
       "<!-- 140127475732096**&#45;1&#45;&gt;140127475732096 -->\n",
       "<g id=\"edge1\" class=\"edge\">\n",
       "<title>140127475732096**&#45;1&#45;&gt;140127475732096</title>\n",
       "<path fill=\"none\" stroke=\"black\" d=\"M325.43,-18.5C333.5,-18.5 342.87,-18.5 352.91,-18.5\"/>\n",
       "<polygon fill=\"black\" stroke=\"black\" points=\"353.16,-22 363.16,-18.5 353.16,-15 353.16,-22\"/>\n",
       "</g>\n",
       "<!-- 140127474554512 -->\n",
       "<g id=\"node3\" class=\"node\">\n",
       "<title>140127474554512</title>\n",
       "<polygon fill=\"none\" stroke=\"black\" points=\"361.19,-55.5 361.19,-91.5 592.19,-91.5 592.19,-55.5 361.19,-55.5\"/>\n",
       "<text text-anchor=\"middle\" x=\"373.69\" y=\"-69.8\" font-family=\"Times,serif\" font-size=\"14.00\">a</text>\n",
       "<polyline fill=\"none\" stroke=\"black\" points=\"386.19,-55.5 386.19,-91.5 \"/>\n",
       "<text text-anchor=\"middle\" x=\"437.19\" y=\"-69.8\" font-family=\"Times,serif\" font-size=\"14.00\">data 1.0000</text>\n",
       "<polyline fill=\"none\" stroke=\"black\" points=\"488.19,-55.5 488.19,-91.5 \"/>\n",
       "<text text-anchor=\"middle\" x=\"540.19\" y=\"-69.8\" font-family=\"Times,serif\" font-size=\"14.00\">grad 0.0000</text>\n",
       "</g>\n",
       "<!-- 140127474554512&#45;&gt;140127475729744* -->\n",
       "<g id=\"edge3\" class=\"edge\">\n",
       "<title>140127474554512&#45;&gt;140127475729744*</title>\n",
       "<path fill=\"none\" stroke=\"black\" d=\"M591.47,-55.45C601.23,-53.9 610.53,-52.43 618.84,-51.11\"/>\n",
       "<polygon fill=\"black\" stroke=\"black\" points=\"619.46,-54.55 628.79,-49.53 618.36,-47.64 619.46,-54.55\"/>\n",
       "</g>\n",
       "<!-- 140127474405664 -->\n",
       "<g id=\"node4\" class=\"node\">\n",
       "<title>140127474405664</title>\n",
       "<polygon fill=\"none\" stroke=\"black\" points=\"0,-0.5 0,-36.5 232,-36.5 232,-0.5 0,-0.5\"/>\n",
       "<text text-anchor=\"middle\" x=\"13\" y=\"-14.8\" font-family=\"Times,serif\" font-size=\"14.00\">b</text>\n",
       "<polyline fill=\"none\" stroke=\"black\" points=\"26,-0.5 26,-36.5 \"/>\n",
       "<text text-anchor=\"middle\" x=\"77\" y=\"-14.8\" font-family=\"Times,serif\" font-size=\"14.00\">data 2.0000</text>\n",
       "<polyline fill=\"none\" stroke=\"black\" points=\"128,-0.5 128,-36.5 \"/>\n",
       "<text text-anchor=\"middle\" x=\"180\" y=\"-14.8\" font-family=\"Times,serif\" font-size=\"14.00\">grad 0.0000</text>\n",
       "</g>\n",
       "<!-- 140127474405664&#45;&gt;140127475732096**&#45;1 -->\n",
       "<g id=\"edge5\" class=\"edge\">\n",
       "<title>140127474405664&#45;&gt;140127475732096**&#45;1</title>\n",
       "<path fill=\"none\" stroke=\"black\" d=\"M232.13,-18.5C241.13,-18.5 249.75,-18.5 257.57,-18.5\"/>\n",
       "<polygon fill=\"black\" stroke=\"black\" points=\"257.71,-22 267.71,-18.5 257.71,-15 257.71,-22\"/>\n",
       "</g>\n",
       "<!-- 140127475729744 -->\n",
       "<g id=\"node5\" class=\"node\">\n",
       "<title>140127475729744</title>\n",
       "<polygon fill=\"none\" stroke=\"black\" points=\"718.19,-27.5 718.19,-63.5 945.19,-63.5 945.19,-27.5 718.19,-27.5\"/>\n",
       "<text text-anchor=\"middle\" x=\"728.69\" y=\"-41.8\" font-family=\"Times,serif\" font-size=\"14.00\"> </text>\n",
       "<polyline fill=\"none\" stroke=\"black\" points=\"739.19,-27.5 739.19,-63.5 \"/>\n",
       "<text text-anchor=\"middle\" x=\"790.19\" y=\"-41.8\" font-family=\"Times,serif\" font-size=\"14.00\">data 0.5000</text>\n",
       "<polyline fill=\"none\" stroke=\"black\" points=\"841.19,-27.5 841.19,-63.5 \"/>\n",
       "<text text-anchor=\"middle\" x=\"893.19\" y=\"-41.8\" font-family=\"Times,serif\" font-size=\"14.00\">grad 0.0000</text>\n",
       "</g>\n",
       "<!-- 140127475729744*&#45;&gt;140127475729744 -->\n",
       "<g id=\"edge2\" class=\"edge\">\n",
       "<title>140127475729744*&#45;&gt;140127475729744</title>\n",
       "<path fill=\"none\" stroke=\"black\" d=\"M682.32,-45.5C689.87,-45.5 698.65,-45.5 708.09,-45.5\"/>\n",
       "<polygon fill=\"black\" stroke=\"black\" points=\"708.15,-49 718.15,-45.5 708.15,-42 708.15,-49\"/>\n",
       "</g>\n",
       "</g>\n",
       "</svg>\n"
      ],
      "text/plain": [
       "<graphviz.graphs.Digraph at 0x7f71f86a0400>"
      ]
     },
     "execution_count": 87,
     "metadata": {},
     "output_type": "execute_result"
    }
   ],
   "source": [
    "a = Valor(1, rotulo=\"a\")\n",
    "b = Valor(2, rotulo=\"b\")\n",
    "c = a / b\n",
    "print(c)\n",
    "\n",
    "plota_grafo(c)"
   ]
  },
  {
   "cell_type": "markdown",
   "metadata": {},
   "source": [
    "Quero poder computar o negativo de uma instância de `Valor`.\n",
    "\n"
   ]
  },
  {
   "cell_type": "code",
   "execution_count": 88,
   "metadata": {},
   "outputs": [
    {
     "name": "stdout",
     "output_type": "stream",
     "text": [
      "Valor(data=-1)\n"
     ]
    }
   ],
   "source": [
    "a = Valor(1, rotulo=\"a\")\n",
    "b = -a\n",
    "print(b)"
   ]
  },
  {
   "cell_type": "markdown",
   "metadata": {},
   "source": [
    "Quero poder subtrair uma instância de `Valor` por outra instância de `Valor`.\n",
    "\n"
   ]
  },
  {
   "cell_type": "code",
   "execution_count": 89,
   "metadata": {},
   "outputs": [
    {
     "name": "stdout",
     "output_type": "stream",
     "text": [
      "Valor(data=7)\n"
     ]
    }
   ],
   "source": [
    "a = Valor(10, rotulo=\"a\")\n",
    "b = Valor(3, rotulo=\"b\")\n",
    "c = a - b\n",
    "print(c)"
   ]
  },
  {
   "cell_type": "markdown",
   "metadata": {},
   "source": [
    "E, finalmente, quero poder aplicar a função sigmoide (também conhecida como logística) a uma instância de `Valor`. A função sigmoide é a seguinte:\n",
    "\n",
    "$$\n",
    "S(x) = \\frac{e^x}{e^x + 1}\n",
    "$$\n",
    "\n"
   ]
  },
  {
   "cell_type": "code",
   "execution_count": 98,
   "metadata": {},
   "outputs": [
    {
     "name": "stdout",
     "output_type": "stream",
     "text": [
      "Valor(data=0.7310585786300048)\n"
     ]
    },
    {
     "data": {
      "image/svg+xml": [
       "<?xml version=\"1.0\" encoding=\"UTF-8\" standalone=\"no\"?>\n",
       "<!DOCTYPE svg PUBLIC \"-//W3C//DTD SVG 1.1//EN\"\n",
       " \"http://www.w3.org/Graphics/SVG/1.1/DTD/svg11.dtd\">\n",
       "<!-- Generated by graphviz version 2.43.0 (0)\n",
       " -->\n",
       "<!-- Title: %3 Pages: 1 -->\n",
       "<svg width=\"1836pt\" height=\"154pt\"\n",
       " viewBox=\"0.00 0.00 1835.79 154.00\" xmlns=\"http://www.w3.org/2000/svg\" xmlns:xlink=\"http://www.w3.org/1999/xlink\">\n",
       "<g id=\"graph0\" class=\"graph\" transform=\"scale(1 1) rotate(0) translate(4 150)\">\n",
       "<title>%3</title>\n",
       "<polygon fill=\"white\" stroke=\"transparent\" points=\"-4,4 -4,-150 1831.79,-150 1831.79,4 -4,4\"/>\n",
       "<!-- 140127475558400 -->\n",
       "<g id=\"node1\" class=\"node\">\n",
       "<title>140127475558400</title>\n",
       "<polygon fill=\"none\" stroke=\"black\" points=\"1247.79,-60.5 1247.79,-96.5 1474.79,-96.5 1474.79,-60.5 1247.79,-60.5\"/>\n",
       "<text text-anchor=\"middle\" x=\"1258.29\" y=\"-74.8\" font-family=\"Times,serif\" font-size=\"14.00\"> </text>\n",
       "<polyline fill=\"none\" stroke=\"black\" points=\"1268.79,-60.5 1268.79,-96.5 \"/>\n",
       "<text text-anchor=\"middle\" x=\"1319.79\" y=\"-74.8\" font-family=\"Times,serif\" font-size=\"14.00\">data 0.2689</text>\n",
       "<polyline fill=\"none\" stroke=\"black\" points=\"1370.79,-60.5 1370.79,-96.5 \"/>\n",
       "<text text-anchor=\"middle\" x=\"1422.79\" y=\"-74.8\" font-family=\"Times,serif\" font-size=\"14.00\">grad 2.7183</text>\n",
       "</g>\n",
       "<!-- 140127475559888* -->\n",
       "<g id=\"node12\" class=\"node\">\n",
       "<title>140127475559888*</title>\n",
       "<ellipse fill=\"none\" stroke=\"black\" cx=\"1537.79\" cy=\"-101.5\" rx=\"27\" ry=\"18\"/>\n",
       "<text text-anchor=\"middle\" x=\"1537.79\" y=\"-97.8\" font-family=\"Times,serif\" font-size=\"14.00\">*</text>\n",
       "</g>\n",
       "<!-- 140127475558400&#45;&gt;140127475559888* -->\n",
       "<g id=\"edge9\" class=\"edge\">\n",
       "<title>140127475558400&#45;&gt;140127475559888*</title>\n",
       "<path fill=\"none\" stroke=\"black\" d=\"M1475.27,-93.39C1484.37,-94.59 1493.06,-95.74 1500.89,-96.77\"/>\n",
       "<polygon fill=\"black\" stroke=\"black\" points=\"1500.62,-100.26 1511,-98.1 1501.54,-93.32 1500.62,-100.26\"/>\n",
       "</g>\n",
       "<!-- 140127475558400**&#45;1 -->\n",
       "<g id=\"node2\" class=\"node\">\n",
       "<title>140127475558400**&#45;1</title>\n",
       "<ellipse fill=\"none\" stroke=\"black\" cx=\"1183.19\" cy=\"-78.5\" rx=\"28.7\" ry=\"18\"/>\n",
       "<text text-anchor=\"middle\" x=\"1183.19\" y=\"-74.8\" font-family=\"Times,serif\" font-size=\"14.00\">**&#45;1</text>\n",
       "</g>\n",
       "<!-- 140127475558400**&#45;1&#45;&gt;140127475558400 -->\n",
       "<g id=\"edge1\" class=\"edge\">\n",
       "<title>140127475558400**&#45;1&#45;&gt;140127475558400</title>\n",
       "<path fill=\"none\" stroke=\"black\" d=\"M1212.1,-78.5C1219.57,-78.5 1228.16,-78.5 1237.35,-78.5\"/>\n",
       "<polygon fill=\"black\" stroke=\"black\" points=\"1237.54,-82 1247.54,-78.5 1237.54,-75 1237.54,-82\"/>\n",
       "</g>\n",
       "<!-- 140127475145824 -->\n",
       "<g id=\"node3\" class=\"node\">\n",
       "<title>140127475145824</title>\n",
       "<polygon fill=\"none\" stroke=\"black\" points=\"624.6,-109.5 624.6,-145.5 851.6,-145.5 851.6,-109.5 624.6,-109.5\"/>\n",
       "<text text-anchor=\"middle\" x=\"635.1\" y=\"-123.8\" font-family=\"Times,serif\" font-size=\"14.00\"> </text>\n",
       "<polyline fill=\"none\" stroke=\"black\" points=\"645.6,-109.5 645.6,-145.5 \"/>\n",
       "<text text-anchor=\"middle\" x=\"696.6\" y=\"-123.8\" font-family=\"Times,serif\" font-size=\"14.00\">data 2.7183</text>\n",
       "<polyline fill=\"none\" stroke=\"black\" points=\"747.6,-109.5 747.6,-145.5 \"/>\n",
       "<text text-anchor=\"middle\" x=\"799.6\" y=\"-123.8\" font-family=\"Times,serif\" font-size=\"14.00\">grad 0.2689</text>\n",
       "</g>\n",
       "<!-- 140127475145824&#45;&gt;140127475559888* -->\n",
       "<g id=\"edge8\" class=\"edge\">\n",
       "<title>140127475145824&#45;&gt;140127475559888*</title>\n",
       "<path fill=\"none\" stroke=\"black\" d=\"M851.66,-126.1C996.06,-123.89 1254.22,-118.53 1474.79,-106.5 1483.22,-106.04 1492.29,-105.39 1500.81,-104.72\"/>\n",
       "<polygon fill=\"black\" stroke=\"black\" points=\"1501.19,-108.2 1510.87,-103.89 1500.61,-101.22 1501.19,-108.2\"/>\n",
       "</g>\n",
       "<!-- 140127475145824exp -->\n",
       "<g id=\"node4\" class=\"node\">\n",
       "<title>140127475145824exp</title>\n",
       "<ellipse fill=\"none\" stroke=\"black\" cx=\"294.3\" cy=\"-127.5\" rx=\"27.1\" ry=\"18\"/>\n",
       "<text text-anchor=\"middle\" x=\"294.3\" y=\"-123.8\" font-family=\"Times,serif\" font-size=\"14.00\">exp</text>\n",
       "</g>\n",
       "<!-- 140127475145824exp&#45;&gt;140127475145824 -->\n",
       "<g id=\"edge2\" class=\"edge\">\n",
       "<title>140127475145824exp&#45;&gt;140127475145824</title>\n",
       "<path fill=\"none\" stroke=\"black\" d=\"M321.61,-127.5C377.91,-127.5 513.16,-127.5 614.15,-127.5\"/>\n",
       "<polygon fill=\"black\" stroke=\"black\" points=\"614.43,-131 624.43,-127.5 614.43,-124 614.43,-131\"/>\n",
       "</g>\n",
       "<!-- 140127475144384 -->\n",
       "<g id=\"node5\" class=\"node\">\n",
       "<title>140127475144384</title>\n",
       "<polygon fill=\"none\" stroke=\"black\" points=\"357.6,-55.5 357.6,-91.5 588.6,-91.5 588.6,-55.5 357.6,-55.5\"/>\n",
       "<text text-anchor=\"middle\" x=\"368.1\" y=\"-69.8\" font-family=\"Times,serif\" font-size=\"14.00\"> </text>\n",
       "<polyline fill=\"none\" stroke=\"black\" points=\"378.6,-55.5 378.6,-91.5 \"/>\n",
       "<text text-anchor=\"middle\" x=\"429.6\" y=\"-69.8\" font-family=\"Times,serif\" font-size=\"14.00\">data 2.7183</text>\n",
       "<polyline fill=\"none\" stroke=\"black\" points=\"480.6,-55.5 480.6,-91.5 \"/>\n",
       "<text text-anchor=\"middle\" x=\"534.6\" y=\"-69.8\" font-family=\"Times,serif\" font-size=\"14.00\">grad &#45;0.1966</text>\n",
       "</g>\n",
       "<!-- 140127475141840+ -->\n",
       "<g id=\"node8\" class=\"node\">\n",
       "<title>140127475141840+</title>\n",
       "<ellipse fill=\"none\" stroke=\"black\" cx=\"738.1\" cy=\"-72.5\" rx=\"27\" ry=\"18\"/>\n",
       "<text text-anchor=\"middle\" x=\"738.1\" y=\"-68.8\" font-family=\"Times,serif\" font-size=\"14.00\">+</text>\n",
       "</g>\n",
       "<!-- 140127475144384&#45;&gt;140127475141840+ -->\n",
       "<g id=\"edge6\" class=\"edge\">\n",
       "<title>140127475144384&#45;&gt;140127475141840+</title>\n",
       "<path fill=\"none\" stroke=\"black\" d=\"M588.69,-73.06C629.12,-72.91 671.73,-72.75 700.87,-72.64\"/>\n",
       "<polygon fill=\"black\" stroke=\"black\" points=\"700.98,-76.14 710.96,-72.6 700.95,-69.14 700.98,-76.14\"/>\n",
       "</g>\n",
       "<!-- 140127475144384exp -->\n",
       "<g id=\"node6\" class=\"node\">\n",
       "<title>140127475144384exp</title>\n",
       "<ellipse fill=\"none\" stroke=\"black\" cx=\"294.3\" cy=\"-73.5\" rx=\"27.1\" ry=\"18\"/>\n",
       "<text text-anchor=\"middle\" x=\"294.3\" y=\"-69.8\" font-family=\"Times,serif\" font-size=\"14.00\">exp</text>\n",
       "</g>\n",
       "<!-- 140127475144384exp&#45;&gt;140127475144384 -->\n",
       "<g id=\"edge3\" class=\"edge\">\n",
       "<title>140127475144384exp&#45;&gt;140127475144384</title>\n",
       "<path fill=\"none\" stroke=\"black\" d=\"M321.77,-73.5C329.19,-73.5 337.79,-73.5 347.05,-73.5\"/>\n",
       "<polygon fill=\"black\" stroke=\"black\" points=\"347.31,-77 357.31,-73.5 347.31,-70 347.31,-77\"/>\n",
       "</g>\n",
       "<!-- 140127475141840 -->\n",
       "<g id=\"node7\" class=\"node\">\n",
       "<title>140127475141840</title>\n",
       "<polygon fill=\"none\" stroke=\"black\" points=\"887.6,-58.5 887.6,-94.5 1118.6,-94.5 1118.6,-58.5 887.6,-58.5\"/>\n",
       "<text text-anchor=\"middle\" x=\"898.1\" y=\"-72.8\" font-family=\"Times,serif\" font-size=\"14.00\"> </text>\n",
       "<polyline fill=\"none\" stroke=\"black\" points=\"908.6,-58.5 908.6,-94.5 \"/>\n",
       "<text text-anchor=\"middle\" x=\"959.6\" y=\"-72.8\" font-family=\"Times,serif\" font-size=\"14.00\">data 3.7183</text>\n",
       "<polyline fill=\"none\" stroke=\"black\" points=\"1010.6,-58.5 1010.6,-94.5 \"/>\n",
       "<text text-anchor=\"middle\" x=\"1064.6\" y=\"-72.8\" font-family=\"Times,serif\" font-size=\"14.00\">grad &#45;0.1966</text>\n",
       "</g>\n",
       "<!-- 140127475141840&#45;&gt;140127475558400**&#45;1 -->\n",
       "<g id=\"edge10\" class=\"edge\">\n",
       "<title>140127475141840&#45;&gt;140127475558400**&#45;1</title>\n",
       "<path fill=\"none\" stroke=\"black\" d=\"M1118.65,-77.79C1127.75,-77.89 1136.46,-77.99 1144.36,-78.08\"/>\n",
       "<polygon fill=\"black\" stroke=\"black\" points=\"1144.54,-81.58 1154.58,-78.19 1144.62,-74.58 1144.54,-81.58\"/>\n",
       "</g>\n",
       "<!-- 140127475141840+&#45;&gt;140127475141840 -->\n",
       "<g id=\"edge4\" class=\"edge\">\n",
       "<title>140127475141840+&#45;&gt;140127475141840</title>\n",
       "<path fill=\"none\" stroke=\"black\" d=\"M765.27,-72.9C791.86,-73.3 835.01,-73.96 877.25,-74.6\"/>\n",
       "<polygon fill=\"black\" stroke=\"black\" points=\"877.33,-78.1 887.38,-74.76 877.43,-71.1 877.33,-78.1\"/>\n",
       "</g>\n",
       "<!-- 140127475143424 -->\n",
       "<g id=\"node9\" class=\"node\">\n",
       "<title>140127475143424</title>\n",
       "<polygon fill=\"none\" stroke=\"black\" points=\"357.6,-0.5 357.6,-36.5 588.6,-36.5 588.6,-0.5 357.6,-0.5\"/>\n",
       "<text text-anchor=\"middle\" x=\"368.1\" y=\"-14.8\" font-family=\"Times,serif\" font-size=\"14.00\"> </text>\n",
       "<polyline fill=\"none\" stroke=\"black\" points=\"378.6,-0.5 378.6,-36.5 \"/>\n",
       "<text text-anchor=\"middle\" x=\"429.6\" y=\"-14.8\" font-family=\"Times,serif\" font-size=\"14.00\">data 1.0000</text>\n",
       "<polyline fill=\"none\" stroke=\"black\" points=\"480.6,-0.5 480.6,-36.5 \"/>\n",
       "<text text-anchor=\"middle\" x=\"534.6\" y=\"-14.8\" font-family=\"Times,serif\" font-size=\"14.00\">grad &#45;0.1966</text>\n",
       "</g>\n",
       "<!-- 140127475143424&#45;&gt;140127475141840+ -->\n",
       "<g id=\"edge7\" class=\"edge\">\n",
       "<title>140127475143424&#45;&gt;140127475141840+</title>\n",
       "<path fill=\"none\" stroke=\"black\" d=\"M562.04,-36.56C610.01,-46.41 666.71,-58.05 702.29,-65.35\"/>\n",
       "<polygon fill=\"black\" stroke=\"black\" points=\"701.68,-68.8 712.18,-67.39 703.09,-61.95 701.68,-68.8\"/>\n",
       "</g>\n",
       "<!-- 140127476750112 -->\n",
       "<g id=\"node10\" class=\"node\">\n",
       "<title>140127476750112</title>\n",
       "<polygon fill=\"none\" stroke=\"black\" points=\"0,-82.5 0,-118.5 231,-118.5 231,-82.5 0,-82.5\"/>\n",
       "<text text-anchor=\"middle\" x=\"12.5\" y=\"-96.8\" font-family=\"Times,serif\" font-size=\"14.00\">a</text>\n",
       "<polyline fill=\"none\" stroke=\"black\" points=\"25,-82.5 25,-118.5 \"/>\n",
       "<text text-anchor=\"middle\" x=\"76\" y=\"-96.8\" font-family=\"Times,serif\" font-size=\"14.00\">data 1.0000</text>\n",
       "<polyline fill=\"none\" stroke=\"black\" points=\"127,-82.5 127,-118.5 \"/>\n",
       "<text text-anchor=\"middle\" x=\"179\" y=\"-96.8\" font-family=\"Times,serif\" font-size=\"14.00\">grad 0.1966</text>\n",
       "</g>\n",
       "<!-- 140127476750112&#45;&gt;140127475145824exp -->\n",
       "<g id=\"edge11\" class=\"edge\">\n",
       "<title>140127476750112&#45;&gt;140127475145824exp</title>\n",
       "<path fill=\"none\" stroke=\"black\" d=\"M231.46,-118.06C240.73,-119.47 249.56,-120.82 257.5,-122.03\"/>\n",
       "<polygon fill=\"black\" stroke=\"black\" points=\"256.98,-125.49 267.39,-123.54 258.04,-118.57 256.98,-125.49\"/>\n",
       "</g>\n",
       "<!-- 140127476750112&#45;&gt;140127475144384exp -->\n",
       "<g id=\"edge12\" class=\"edge\">\n",
       "<title>140127476750112&#45;&gt;140127475144384exp</title>\n",
       "<path fill=\"none\" stroke=\"black\" d=\"M231.46,-82.94C240.73,-81.53 249.56,-80.18 257.5,-78.97\"/>\n",
       "<polygon fill=\"black\" stroke=\"black\" points=\"258.04,-82.43 267.39,-77.46 256.98,-75.51 258.04,-82.43\"/>\n",
       "</g>\n",
       "<!-- 140127475559888 -->\n",
       "<g id=\"node11\" class=\"node\">\n",
       "<title>140127475559888</title>\n",
       "<polygon fill=\"none\" stroke=\"black\" points=\"1600.79,-83.5 1600.79,-119.5 1827.79,-119.5 1827.79,-83.5 1600.79,-83.5\"/>\n",
       "<text text-anchor=\"middle\" x=\"1611.29\" y=\"-97.8\" font-family=\"Times,serif\" font-size=\"14.00\"> </text>\n",
       "<polyline fill=\"none\" stroke=\"black\" points=\"1621.79,-83.5 1621.79,-119.5 \"/>\n",
       "<text text-anchor=\"middle\" x=\"1672.79\" y=\"-97.8\" font-family=\"Times,serif\" font-size=\"14.00\">data 0.7311</text>\n",
       "<polyline fill=\"none\" stroke=\"black\" points=\"1723.79,-83.5 1723.79,-119.5 \"/>\n",
       "<text text-anchor=\"middle\" x=\"1775.79\" y=\"-97.8\" font-family=\"Times,serif\" font-size=\"14.00\">grad 1.0000</text>\n",
       "</g>\n",
       "<!-- 140127475559888*&#45;&gt;140127475559888 -->\n",
       "<g id=\"edge5\" class=\"edge\">\n",
       "<title>140127475559888*&#45;&gt;140127475559888</title>\n",
       "<path fill=\"none\" stroke=\"black\" d=\"M1564.91,-101.5C1572.46,-101.5 1581.24,-101.5 1590.69,-101.5\"/>\n",
       "<polygon fill=\"black\" stroke=\"black\" points=\"1590.74,-105 1600.74,-101.5 1590.74,-98 1590.74,-105\"/>\n",
       "</g>\n",
       "</g>\n",
       "</svg>\n"
      ],
      "text/plain": [
       "<graphviz.graphs.Digraph at 0x7f71f84164d0>"
      ]
     },
     "execution_count": 98,
     "metadata": {},
     "output_type": "execute_result"
    }
   ],
   "source": [
    "a = Valor(1, rotulo=\"a\")\n",
    "b = a.sig()\n",
    "print(b)\n",
    "b.propagar_tudo()\n",
    "plota_grafo(b)"
   ]
  },
  {
   "cell_type": "markdown",
   "metadata": {},
   "source": [
    "## Conclusão\n",
    "\n"
   ]
  },
  {
   "cell_type": "markdown",
   "metadata": {},
   "source": [
    "## Playground\n",
    "\n"
   ]
  },
  {
   "cell_type": "code",
   "execution_count": null,
   "metadata": {},
   "outputs": [],
   "source": []
  },
  {
   "cell_type": "code",
   "execution_count": null,
   "metadata": {},
   "outputs": [],
   "source": []
  },
  {
   "cell_type": "code",
   "execution_count": null,
   "metadata": {},
   "outputs": [],
   "source": []
  },
  {
   "cell_type": "code",
   "execution_count": null,
   "metadata": {},
   "outputs": [],
   "source": []
  }
 ],
 "metadata": {
  "kernelspec": {
   "display_name": "ilumpy",
   "language": "python",
   "name": "ilumpy"
  },
  "language_info": {
   "codemirror_mode": {
    "name": "ipython",
    "version": 3
   },
   "file_extension": ".py",
   "mimetype": "text/x-python",
   "name": "python",
   "nbconvert_exporter": "python",
   "pygments_lexer": "ipython3",
   "version": "3.10.6"
  },
  "org": null
 },
 "nbformat": 4,
 "nbformat_minor": 4
}
